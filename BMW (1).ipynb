{
 "cells": [
  {
   "cell_type": "markdown",
   "id": "7bb04c6e-da94-4fcc-8a3d-347e363bc33c",
   "metadata": {},
   "source": [
    "# 1. Setup"
   ]
  },
  {
   "cell_type": "markdown",
   "id": "ca1174d1-0b11-450c-b575-68bde87a8cea",
   "metadata": {},
   "source": [
    "## import"
   ]
  },
  {
   "cell_type": "code",
   "execution_count": 184,
   "id": "8cd6884c-475c-4475-9e85-ccbbe1643171",
   "metadata": {},
   "outputs": [],
   "source": [
    "# importing libraries \n",
    "import numpy as np \n",
    "import pandas as pd "
   ]
  },
  {
   "cell_type": "code",
   "execution_count": 185,
   "id": "391fa15f-e175-4e90-9eb4-b257cf7dfe32",
   "metadata": {},
   "outputs": [
    {
     "name": "stdout",
     "output_type": "stream",
     "text": [
      "Requirement already satisfied: pandas in c:\\anaconda\\lib\\site-packages (2.2.3)\n",
      "Requirement already satisfied: numpy>=1.26.0 in c:\\anaconda\\lib\\site-packages (from pandas) (2.1.3)\n",
      "Requirement already satisfied: python-dateutil>=2.8.2 in c:\\anaconda\\lib\\site-packages (from pandas) (2.9.0.post0)\n",
      "Requirement already satisfied: pytz>=2020.1 in c:\\anaconda\\lib\\site-packages (from pandas) (2024.1)\n",
      "Requirement already satisfied: tzdata>=2022.7 in c:\\anaconda\\lib\\site-packages (from pandas) (2025.2)\n",
      "Requirement already satisfied: six>=1.5 in c:\\anaconda\\lib\\site-packages (from python-dateutil>=2.8.2->pandas) (1.17.0)\n"
     ]
    }
   ],
   "source": [
    "! pip install pandas"
   ]
  },
  {
   "cell_type": "code",
   "execution_count": 186,
   "id": "3fe4159c-50b0-40a7-a0ec-ba9df434d62b",
   "metadata": {},
   "outputs": [
    {
     "name": "stdout",
     "output_type": "stream",
     "text": [
      "Requirement already satisfied: numpy in c:\\anaconda\\lib\\site-packages (2.1.3)\n"
     ]
    }
   ],
   "source": [
    "! pip install numpy"
   ]
  },
  {
   "cell_type": "markdown",
   "id": "937ba6b0-5ec4-4630-b882-89eb75eac5b8",
   "metadata": {},
   "source": [
    " ## 2. Loading dataset & print first 10 rows"
   ]
  },
  {
   "cell_type": "code",
   "execution_count": 187,
   "id": "4f907973-9b11-4940-8aae-5833e44f0168",
   "metadata": {},
   "outputs": [],
   "source": [
    "df=pd.read_csv('C:\\\\Users\\\\Vaishnavi\\\\OneDrive\\\\Desktop\\\\Pandas 1\\\\bmw_car\\\\bmw_car_data.csv')"
   ]
  },
  {
   "cell_type": "code",
   "execution_count": 188,
   "id": "c4b4e289-61d7-47f3-b3bb-902243d080f0",
   "metadata": {},
   "outputs": [
    {
     "data": {
      "text/html": [
       "<div>\n",
       "<style scoped>\n",
       "    .dataframe tbody tr th:only-of-type {\n",
       "        vertical-align: middle;\n",
       "    }\n",
       "\n",
       "    .dataframe tbody tr th {\n",
       "        vertical-align: top;\n",
       "    }\n",
       "\n",
       "    .dataframe thead th {\n",
       "        text-align: right;\n",
       "    }\n",
       "</style>\n",
       "<table border=\"1\" class=\"dataframe\">\n",
       "  <thead>\n",
       "    <tr style=\"text-align: right;\">\n",
       "      <th></th>\n",
       "      <th>ID</th>\n",
       "      <th>Model_Name</th>\n",
       "      <th>Variant</th>\n",
       "      <th>Year</th>\n",
       "      <th>Fuel_Type</th>\n",
       "      <th>Transmission</th>\n",
       "      <th>Engine_CC</th>\n",
       "      <th>Power_BHP</th>\n",
       "      <th>Torque_Nm</th>\n",
       "      <th>Mileage_kmpl</th>\n",
       "      <th>Price_Ex_Showroom</th>\n",
       "      <th>Owner_Type</th>\n",
       "      <th>Insurance_Valid_Till</th>\n",
       "      <th>Location</th>\n",
       "      <th>Registration_State</th>\n",
       "    </tr>\n",
       "  </thead>\n",
       "  <tbody>\n",
       "    <tr>\n",
       "      <th>0</th>\n",
       "      <td>1</td>\n",
       "      <td>X5</td>\n",
       "      <td>xDrive</td>\n",
       "      <td>2019</td>\n",
       "      <td>Electric</td>\n",
       "      <td>Manual</td>\n",
       "      <td>1496</td>\n",
       "      <td>395.18</td>\n",
       "      <td>492.04</td>\n",
       "      <td>20.48</td>\n",
       "      <td>68.33</td>\n",
       "      <td>Second</td>\n",
       "      <td>2022</td>\n",
       "      <td>Hyderabad</td>\n",
       "      <td>KA</td>\n",
       "    </tr>\n",
       "    <tr>\n",
       "      <th>1</th>\n",
       "      <td>2</td>\n",
       "      <td>X5</td>\n",
       "      <td>Luxury Line</td>\n",
       "      <td>2016</td>\n",
       "      <td>Electric</td>\n",
       "      <td>Automatic</td>\n",
       "      <td>1496</td>\n",
       "      <td>312.78</td>\n",
       "      <td>708.05</td>\n",
       "      <td>8.12</td>\n",
       "      <td>118.58</td>\n",
       "      <td>Second</td>\n",
       "      <td>2020</td>\n",
       "      <td>Chennai</td>\n",
       "      <td>DL</td>\n",
       "    </tr>\n",
       "    <tr>\n",
       "      <th>2</th>\n",
       "      <td>3</td>\n",
       "      <td>Z4</td>\n",
       "      <td>M Sport</td>\n",
       "      <td>2012</td>\n",
       "      <td>Electric</td>\n",
       "      <td>Semi-Automatic</td>\n",
       "      <td>4395</td>\n",
       "      <td>604.45</td>\n",
       "      <td>550.74</td>\n",
       "      <td>16.24</td>\n",
       "      <td>109.90</td>\n",
       "      <td>Second</td>\n",
       "      <td>2022</td>\n",
       "      <td>Hyderabad</td>\n",
       "      <td>DL</td>\n",
       "    </tr>\n",
       "    <tr>\n",
       "      <th>3</th>\n",
       "      <td>4</td>\n",
       "      <td>X7</td>\n",
       "      <td>M Sport</td>\n",
       "      <td>2013</td>\n",
       "      <td>Hybrid</td>\n",
       "      <td>Semi-Automatic</td>\n",
       "      <td>4395</td>\n",
       "      <td>383.04</td>\n",
       "      <td>413.78</td>\n",
       "      <td>9.80</td>\n",
       "      <td>41.05</td>\n",
       "      <td>Fourth &amp; Above</td>\n",
       "      <td>2023</td>\n",
       "      <td>Hyderabad</td>\n",
       "      <td>DL</td>\n",
       "    </tr>\n",
       "    <tr>\n",
       "      <th>4</th>\n",
       "      <td>5</td>\n",
       "      <td>X7</td>\n",
       "      <td>xDrive</td>\n",
       "      <td>2010</td>\n",
       "      <td>Electric</td>\n",
       "      <td>Manual</td>\n",
       "      <td>2993</td>\n",
       "      <td>315.78</td>\n",
       "      <td>632.13</td>\n",
       "      <td>23.47</td>\n",
       "      <td>111.08</td>\n",
       "      <td>First</td>\n",
       "      <td>2024</td>\n",
       "      <td>Chennai</td>\n",
       "      <td>TS</td>\n",
       "    </tr>\n",
       "    <tr>\n",
       "      <th>...</th>\n",
       "      <td>...</td>\n",
       "      <td>...</td>\n",
       "      <td>...</td>\n",
       "      <td>...</td>\n",
       "      <td>...</td>\n",
       "      <td>...</td>\n",
       "      <td>...</td>\n",
       "      <td>...</td>\n",
       "      <td>...</td>\n",
       "      <td>...</td>\n",
       "      <td>...</td>\n",
       "      <td>...</td>\n",
       "      <td>...</td>\n",
       "      <td>...</td>\n",
       "      <td>...</td>\n",
       "    </tr>\n",
       "    <tr>\n",
       "      <th>99995</th>\n",
       "      <td>99996</td>\n",
       "      <td>Z4</td>\n",
       "      <td>Sport Line</td>\n",
       "      <td>2014</td>\n",
       "      <td>Hybrid</td>\n",
       "      <td>Semi-Automatic</td>\n",
       "      <td>1998</td>\n",
       "      <td>208.30</td>\n",
       "      <td>385.44</td>\n",
       "      <td>9.83</td>\n",
       "      <td>99.15</td>\n",
       "      <td>First</td>\n",
       "      <td>2022</td>\n",
       "      <td>Chennai</td>\n",
       "      <td>TN</td>\n",
       "    </tr>\n",
       "    <tr>\n",
       "      <th>99996</th>\n",
       "      <td>99997</td>\n",
       "      <td>Z4</td>\n",
       "      <td>Sport Line</td>\n",
       "      <td>2021</td>\n",
       "      <td>Electric</td>\n",
       "      <td>Automatic</td>\n",
       "      <td>1496</td>\n",
       "      <td>562.64</td>\n",
       "      <td>730.43</td>\n",
       "      <td>13.45</td>\n",
       "      <td>70.56</td>\n",
       "      <td>Third</td>\n",
       "      <td>2021</td>\n",
       "      <td>Bangalore</td>\n",
       "      <td>TS</td>\n",
       "    </tr>\n",
       "    <tr>\n",
       "      <th>99997</th>\n",
       "      <td>99998</td>\n",
       "      <td>M4</td>\n",
       "      <td>Standard</td>\n",
       "      <td>2012</td>\n",
       "      <td>Hybrid</td>\n",
       "      <td>Automatic</td>\n",
       "      <td>2993</td>\n",
       "      <td>140.86</td>\n",
       "      <td>386.50</td>\n",
       "      <td>14.44</td>\n",
       "      <td>44.46</td>\n",
       "      <td>Fourth &amp; Above</td>\n",
       "      <td>2024</td>\n",
       "      <td>Kolkata</td>\n",
       "      <td>DL</td>\n",
       "    </tr>\n",
       "    <tr>\n",
       "      <th>99998</th>\n",
       "      <td>99999</td>\n",
       "      <td>X7</td>\n",
       "      <td>Luxury Line</td>\n",
       "      <td>2015</td>\n",
       "      <td>Electric</td>\n",
       "      <td>Manual</td>\n",
       "      <td>4395</td>\n",
       "      <td>434.00</td>\n",
       "      <td>548.41</td>\n",
       "      <td>14.93</td>\n",
       "      <td>84.82</td>\n",
       "      <td>Second</td>\n",
       "      <td>2022</td>\n",
       "      <td>Chennai</td>\n",
       "      <td>TS</td>\n",
       "    </tr>\n",
       "    <tr>\n",
       "      <th>99999</th>\n",
       "      <td>100000</td>\n",
       "      <td>520d</td>\n",
       "      <td>Luxury Line</td>\n",
       "      <td>2020</td>\n",
       "      <td>Electric</td>\n",
       "      <td>Semi-Automatic</td>\n",
       "      <td>1496</td>\n",
       "      <td>392.05</td>\n",
       "      <td>307.86</td>\n",
       "      <td>13.97</td>\n",
       "      <td>77.14</td>\n",
       "      <td>Second</td>\n",
       "      <td>2022</td>\n",
       "      <td>Pune</td>\n",
       "      <td>DL</td>\n",
       "    </tr>\n",
       "  </tbody>\n",
       "</table>\n",
       "<p>100000 rows × 15 columns</p>\n",
       "</div>"
      ],
      "text/plain": [
       "           ID Model_Name      Variant  Year Fuel_Type    Transmission  \\\n",
       "0           1         X5       xDrive  2019  Electric          Manual   \n",
       "1           2         X5  Luxury Line  2016  Electric       Automatic   \n",
       "2           3         Z4      M Sport  2012  Electric  Semi-Automatic   \n",
       "3           4         X7      M Sport  2013    Hybrid  Semi-Automatic   \n",
       "4           5         X7       xDrive  2010  Electric          Manual   \n",
       "...       ...        ...          ...   ...       ...             ...   \n",
       "99995   99996         Z4   Sport Line  2014    Hybrid  Semi-Automatic   \n",
       "99996   99997         Z4   Sport Line  2021  Electric       Automatic   \n",
       "99997   99998         M4     Standard  2012    Hybrid       Automatic   \n",
       "99998   99999         X7  Luxury Line  2015  Electric          Manual   \n",
       "99999  100000       520d  Luxury Line  2020  Electric  Semi-Automatic   \n",
       "\n",
       "       Engine_CC  Power_BHP  Torque_Nm  Mileage_kmpl  Price_Ex_Showroom  \\\n",
       "0           1496     395.18     492.04         20.48              68.33   \n",
       "1           1496     312.78     708.05          8.12             118.58   \n",
       "2           4395     604.45     550.74         16.24             109.90   \n",
       "3           4395     383.04     413.78          9.80              41.05   \n",
       "4           2993     315.78     632.13         23.47             111.08   \n",
       "...          ...        ...        ...           ...                ...   \n",
       "99995       1998     208.30     385.44          9.83              99.15   \n",
       "99996       1496     562.64     730.43         13.45              70.56   \n",
       "99997       2993     140.86     386.50         14.44              44.46   \n",
       "99998       4395     434.00     548.41         14.93              84.82   \n",
       "99999       1496     392.05     307.86         13.97              77.14   \n",
       "\n",
       "           Owner_Type  Insurance_Valid_Till   Location Registration_State  \n",
       "0              Second                  2022  Hyderabad                 KA  \n",
       "1              Second                  2020    Chennai                 DL  \n",
       "2              Second                  2022  Hyderabad                 DL  \n",
       "3      Fourth & Above                  2023  Hyderabad                 DL  \n",
       "4               First                  2024    Chennai                 TS  \n",
       "...               ...                   ...        ...                ...  \n",
       "99995           First                  2022    Chennai                 TN  \n",
       "99996           Third                  2021  Bangalore                 TS  \n",
       "99997  Fourth & Above                  2024    Kolkata                 DL  \n",
       "99998          Second                  2022    Chennai                 TS  \n",
       "99999          Second                  2022       Pune                 DL  \n",
       "\n",
       "[100000 rows x 15 columns]"
      ]
     },
     "execution_count": 188,
     "metadata": {},
     "output_type": "execute_result"
    }
   ],
   "source": [
    "df"
   ]
  },
  {
   "cell_type": "code",
   "execution_count": 189,
   "id": "13581374-b1e1-4137-acfb-b1dee1a659fc",
   "metadata": {},
   "outputs": [
    {
     "data": {
      "text/html": [
       "<div>\n",
       "<style scoped>\n",
       "    .dataframe tbody tr th:only-of-type {\n",
       "        vertical-align: middle;\n",
       "    }\n",
       "\n",
       "    .dataframe tbody tr th {\n",
       "        vertical-align: top;\n",
       "    }\n",
       "\n",
       "    .dataframe thead th {\n",
       "        text-align: right;\n",
       "    }\n",
       "</style>\n",
       "<table border=\"1\" class=\"dataframe\">\n",
       "  <thead>\n",
       "    <tr style=\"text-align: right;\">\n",
       "      <th></th>\n",
       "      <th>ID</th>\n",
       "      <th>Model_Name</th>\n",
       "      <th>Variant</th>\n",
       "      <th>Year</th>\n",
       "      <th>Fuel_Type</th>\n",
       "      <th>Transmission</th>\n",
       "      <th>Engine_CC</th>\n",
       "      <th>Power_BHP</th>\n",
       "      <th>Torque_Nm</th>\n",
       "      <th>Mileage_kmpl</th>\n",
       "      <th>Price_Ex_Showroom</th>\n",
       "      <th>Owner_Type</th>\n",
       "      <th>Insurance_Valid_Till</th>\n",
       "      <th>Location</th>\n",
       "      <th>Registration_State</th>\n",
       "    </tr>\n",
       "  </thead>\n",
       "  <tbody>\n",
       "    <tr>\n",
       "      <th>0</th>\n",
       "      <td>1</td>\n",
       "      <td>X5</td>\n",
       "      <td>xDrive</td>\n",
       "      <td>2019</td>\n",
       "      <td>Electric</td>\n",
       "      <td>Manual</td>\n",
       "      <td>1496</td>\n",
       "      <td>395.18</td>\n",
       "      <td>492.04</td>\n",
       "      <td>20.48</td>\n",
       "      <td>68.33</td>\n",
       "      <td>Second</td>\n",
       "      <td>2022</td>\n",
       "      <td>Hyderabad</td>\n",
       "      <td>KA</td>\n",
       "    </tr>\n",
       "    <tr>\n",
       "      <th>1</th>\n",
       "      <td>2</td>\n",
       "      <td>X5</td>\n",
       "      <td>Luxury Line</td>\n",
       "      <td>2016</td>\n",
       "      <td>Electric</td>\n",
       "      <td>Automatic</td>\n",
       "      <td>1496</td>\n",
       "      <td>312.78</td>\n",
       "      <td>708.05</td>\n",
       "      <td>8.12</td>\n",
       "      <td>118.58</td>\n",
       "      <td>Second</td>\n",
       "      <td>2020</td>\n",
       "      <td>Chennai</td>\n",
       "      <td>DL</td>\n",
       "    </tr>\n",
       "    <tr>\n",
       "      <th>2</th>\n",
       "      <td>3</td>\n",
       "      <td>Z4</td>\n",
       "      <td>M Sport</td>\n",
       "      <td>2012</td>\n",
       "      <td>Electric</td>\n",
       "      <td>Semi-Automatic</td>\n",
       "      <td>4395</td>\n",
       "      <td>604.45</td>\n",
       "      <td>550.74</td>\n",
       "      <td>16.24</td>\n",
       "      <td>109.90</td>\n",
       "      <td>Second</td>\n",
       "      <td>2022</td>\n",
       "      <td>Hyderabad</td>\n",
       "      <td>DL</td>\n",
       "    </tr>\n",
       "    <tr>\n",
       "      <th>3</th>\n",
       "      <td>4</td>\n",
       "      <td>X7</td>\n",
       "      <td>M Sport</td>\n",
       "      <td>2013</td>\n",
       "      <td>Hybrid</td>\n",
       "      <td>Semi-Automatic</td>\n",
       "      <td>4395</td>\n",
       "      <td>383.04</td>\n",
       "      <td>413.78</td>\n",
       "      <td>9.80</td>\n",
       "      <td>41.05</td>\n",
       "      <td>Fourth &amp; Above</td>\n",
       "      <td>2023</td>\n",
       "      <td>Hyderabad</td>\n",
       "      <td>DL</td>\n",
       "    </tr>\n",
       "    <tr>\n",
       "      <th>4</th>\n",
       "      <td>5</td>\n",
       "      <td>X7</td>\n",
       "      <td>xDrive</td>\n",
       "      <td>2010</td>\n",
       "      <td>Electric</td>\n",
       "      <td>Manual</td>\n",
       "      <td>2993</td>\n",
       "      <td>315.78</td>\n",
       "      <td>632.13</td>\n",
       "      <td>23.47</td>\n",
       "      <td>111.08</td>\n",
       "      <td>First</td>\n",
       "      <td>2024</td>\n",
       "      <td>Chennai</td>\n",
       "      <td>TS</td>\n",
       "    </tr>\n",
       "    <tr>\n",
       "      <th>5</th>\n",
       "      <td>6</td>\n",
       "      <td>X1</td>\n",
       "      <td>M Sport</td>\n",
       "      <td>2012</td>\n",
       "      <td>Petrol</td>\n",
       "      <td>Manual</td>\n",
       "      <td>2993</td>\n",
       "      <td>193.38</td>\n",
       "      <td>457.96</td>\n",
       "      <td>24.68</td>\n",
       "      <td>124.46</td>\n",
       "      <td>Second</td>\n",
       "      <td>2021</td>\n",
       "      <td>Kolkata</td>\n",
       "      <td>KA</td>\n",
       "    </tr>\n",
       "    <tr>\n",
       "      <th>6</th>\n",
       "      <td>7</td>\n",
       "      <td>M3</td>\n",
       "      <td>Standard</td>\n",
       "      <td>2014</td>\n",
       "      <td>Hybrid</td>\n",
       "      <td>Semi-Automatic</td>\n",
       "      <td>4395</td>\n",
       "      <td>480.93</td>\n",
       "      <td>692.57</td>\n",
       "      <td>18.16</td>\n",
       "      <td>35.15</td>\n",
       "      <td>Third</td>\n",
       "      <td>2022</td>\n",
       "      <td>Bangalore</td>\n",
       "      <td>DL</td>\n",
       "    </tr>\n",
       "    <tr>\n",
       "      <th>7</th>\n",
       "      <td>8</td>\n",
       "      <td>320d</td>\n",
       "      <td>Sport Line</td>\n",
       "      <td>2015</td>\n",
       "      <td>Electric</td>\n",
       "      <td>Semi-Automatic</td>\n",
       "      <td>1496</td>\n",
       "      <td>203.37</td>\n",
       "      <td>723.20</td>\n",
       "      <td>14.99</td>\n",
       "      <td>134.32</td>\n",
       "      <td>Third</td>\n",
       "      <td>2023</td>\n",
       "      <td>Ahmedabad</td>\n",
       "      <td>MH</td>\n",
       "    </tr>\n",
       "    <tr>\n",
       "      <th>8</th>\n",
       "      <td>9</td>\n",
       "      <td>X3</td>\n",
       "      <td>Sport Line</td>\n",
       "      <td>2019</td>\n",
       "      <td>Electric</td>\n",
       "      <td>Manual</td>\n",
       "      <td>1998</td>\n",
       "      <td>609.33</td>\n",
       "      <td>705.88</td>\n",
       "      <td>20.56</td>\n",
       "      <td>52.42</td>\n",
       "      <td>Second</td>\n",
       "      <td>2020</td>\n",
       "      <td>Pune</td>\n",
       "      <td>DL</td>\n",
       "    </tr>\n",
       "    <tr>\n",
       "      <th>9</th>\n",
       "      <td>10</td>\n",
       "      <td>i8</td>\n",
       "      <td>Luxury Line</td>\n",
       "      <td>2015</td>\n",
       "      <td>Petrol</td>\n",
       "      <td>Manual</td>\n",
       "      <td>1998</td>\n",
       "      <td>386.49</td>\n",
       "      <td>306.52</td>\n",
       "      <td>9.49</td>\n",
       "      <td>115.32</td>\n",
       "      <td>Fourth &amp; Above</td>\n",
       "      <td>2020</td>\n",
       "      <td>Ahmedabad</td>\n",
       "      <td>MH</td>\n",
       "    </tr>\n",
       "  </tbody>\n",
       "</table>\n",
       "</div>"
      ],
      "text/plain": [
       "   ID Model_Name      Variant  Year Fuel_Type    Transmission  Engine_CC  \\\n",
       "0   1         X5       xDrive  2019  Electric          Manual       1496   \n",
       "1   2         X5  Luxury Line  2016  Electric       Automatic       1496   \n",
       "2   3         Z4      M Sport  2012  Electric  Semi-Automatic       4395   \n",
       "3   4         X7      M Sport  2013    Hybrid  Semi-Automatic       4395   \n",
       "4   5         X7       xDrive  2010  Electric          Manual       2993   \n",
       "5   6         X1      M Sport  2012    Petrol          Manual       2993   \n",
       "6   7         M3     Standard  2014    Hybrid  Semi-Automatic       4395   \n",
       "7   8       320d   Sport Line  2015  Electric  Semi-Automatic       1496   \n",
       "8   9         X3   Sport Line  2019  Electric          Manual       1998   \n",
       "9  10         i8  Luxury Line  2015    Petrol          Manual       1998   \n",
       "\n",
       "   Power_BHP  Torque_Nm  Mileage_kmpl  Price_Ex_Showroom      Owner_Type  \\\n",
       "0     395.18     492.04         20.48              68.33          Second   \n",
       "1     312.78     708.05          8.12             118.58          Second   \n",
       "2     604.45     550.74         16.24             109.90          Second   \n",
       "3     383.04     413.78          9.80              41.05  Fourth & Above   \n",
       "4     315.78     632.13         23.47             111.08           First   \n",
       "5     193.38     457.96         24.68             124.46          Second   \n",
       "6     480.93     692.57         18.16              35.15           Third   \n",
       "7     203.37     723.20         14.99             134.32           Third   \n",
       "8     609.33     705.88         20.56              52.42          Second   \n",
       "9     386.49     306.52          9.49             115.32  Fourth & Above   \n",
       "\n",
       "   Insurance_Valid_Till   Location Registration_State  \n",
       "0                  2022  Hyderabad                 KA  \n",
       "1                  2020    Chennai                 DL  \n",
       "2                  2022  Hyderabad                 DL  \n",
       "3                  2023  Hyderabad                 DL  \n",
       "4                  2024    Chennai                 TS  \n",
       "5                  2021    Kolkata                 KA  \n",
       "6                  2022  Bangalore                 DL  \n",
       "7                  2023  Ahmedabad                 MH  \n",
       "8                  2020       Pune                 DL  \n",
       "9                  2020  Ahmedabad                 MH  "
      ]
     },
     "execution_count": 189,
     "metadata": {},
     "output_type": "execute_result"
    }
   ],
   "source": [
    "#print 1st 10\n",
    "df.head(10)"
   ]
  },
  {
   "cell_type": "markdown",
   "id": "1688f6f7-ffbd-42d3-bda0-a66b9a24a2f1",
   "metadata": {},
   "source": [
    "## 3.Display shape, column names, & dtype"
   ]
  },
  {
   "cell_type": "code",
   "execution_count": 190,
   "id": "1bd153c1-23cb-4cd8-8ba7-56768b7f1212",
   "metadata": {},
   "outputs": [
    {
     "data": {
      "text/plain": [
       "(100000, 15)"
      ]
     },
     "execution_count": 190,
     "metadata": {},
     "output_type": "execute_result"
    }
   ],
   "source": [
    "df.shape"
   ]
  },
  {
   "cell_type": "code",
   "execution_count": 191,
   "id": "ed67d425-15fe-4e94-b885-557fbfd027a7",
   "metadata": {},
   "outputs": [
    {
     "data": {
      "text/plain": [
       "Index(['ID', 'Model_Name', 'Variant', 'Year', 'Fuel_Type', 'Transmission',\n",
       "       'Engine_CC', 'Power_BHP', 'Torque_Nm', 'Mileage_kmpl',\n",
       "       'Price_Ex_Showroom', 'Owner_Type', 'Insurance_Valid_Till', 'Location',\n",
       "       'Registration_State'],\n",
       "      dtype='object')"
      ]
     },
     "execution_count": 191,
     "metadata": {},
     "output_type": "execute_result"
    }
   ],
   "source": [
    "df. columns"
   ]
  },
  {
   "cell_type": "code",
   "execution_count": 192,
   "id": "39ef9f2e-3ea3-4deb-a430-e208f0a9f277",
   "metadata": {},
   "outputs": [
    {
     "data": {
      "text/plain": [
       "ID                        int64\n",
       "Model_Name               object\n",
       "Variant                  object\n",
       "Year                      int64\n",
       "Fuel_Type                object\n",
       "Transmission             object\n",
       "Engine_CC                 int64\n",
       "Power_BHP               float64\n",
       "Torque_Nm               float64\n",
       "Mileage_kmpl            float64\n",
       "Price_Ex_Showroom       float64\n",
       "Owner_Type               object\n",
       "Insurance_Valid_Till      int64\n",
       "Location                 object\n",
       "Registration_State       object\n",
       "dtype: object"
      ]
     },
     "execution_count": 192,
     "metadata": {},
     "output_type": "execute_result"
    }
   ],
   "source": [
    "df.dtypes"
   ]
  },
  {
   "cell_type": "markdown",
   "id": "315cc7e0-6261-4d96-8f31-0826e6066c43",
   "metadata": {},
   "source": [
    "## 3.Checking  for missing values & count per  columns "
   ]
  },
  {
   "cell_type": "code",
   "execution_count": 193,
   "id": "35ea879f-306d-448c-ae4e-af5f2cac4500",
   "metadata": {},
   "outputs": [
    {
     "data": {
      "text/plain": [
       "ID                      0\n",
       "Model_Name              0\n",
       "Variant                 0\n",
       "Year                    0\n",
       "Fuel_Type               0\n",
       "Transmission            0\n",
       "Engine_CC               0\n",
       "Power_BHP               0\n",
       "Torque_Nm               0\n",
       "Mileage_kmpl            0\n",
       "Price_Ex_Showroom       0\n",
       "Owner_Type              0\n",
       "Insurance_Valid_Till    0\n",
       "Location                0\n",
       "Registration_State      0\n",
       "dtype: int64"
      ]
     },
     "execution_count": 193,
     "metadata": {},
     "output_type": "execute_result"
    }
   ],
   "source": [
    "df. isnull().sum()\n"
   ]
  },
  {
   "cell_type": "markdown",
   "id": "b419ecfc-d043-482b-ab79-907e133ea395",
   "metadata": {},
   "source": [
    "## 4.Filter car manufactured after 2020"
   ]
  },
  {
   "cell_type": "code",
   "execution_count": 194,
   "id": "51abbff0-ba6c-4eda-a341-f8a773428c35",
   "metadata": {},
   "outputs": [],
   "source": [
    "df_after_2020 = df['Year']>2020"
   ]
  },
  {
   "cell_type": "code",
   "execution_count": 195,
   "id": "01c5a28d-4845-40d9-9451-98c480212dad",
   "metadata": {},
   "outputs": [
    {
     "data": {
      "text/plain": [
       "0        False\n",
       "1        False\n",
       "2        False\n",
       "3        False\n",
       "4        False\n",
       "         ...  \n",
       "99995    False\n",
       "99996     True\n",
       "99997    False\n",
       "99998    False\n",
       "99999    False\n",
       "Name: Year, Length: 100000, dtype: bool"
      ]
     },
     "execution_count": 195,
     "metadata": {},
     "output_type": "execute_result"
    }
   ],
   "source": [
    "df_after_2020"
   ]
  },
  {
   "cell_type": "markdown",
   "id": "399144a3-fe1f-4f74-946d-edc4004721ca",
   "metadata": {},
   "source": [
    "## 5.List unique car models and fule types"
   ]
  },
  {
   "cell_type": "code",
   "execution_count": 196,
   "id": "9c79d9bc-3771-4acb-a74f-35c370927038",
   "metadata": {},
   "outputs": [
    {
     "data": {
      "text/plain": [
       "array(['X5', 'Z4', 'X7', 'X1', 'M3', '320d', 'X3', 'i8', 'M4', '520d'],\n",
       "      dtype=object)"
      ]
     },
     "execution_count": 196,
     "metadata": {},
     "output_type": "execute_result"
    }
   ],
   "source": [
    "(df['Model_Name'].unique()) \n"
   ]
  },
  {
   "cell_type": "code",
   "execution_count": 197,
   "id": "852ff980-2e11-4919-b9b9-521f4cc9cffe",
   "metadata": {},
   "outputs": [
    {
     "data": {
      "text/plain": [
       "array(['Electric', 'Hybrid', 'Petrol', 'Diesel'], dtype=object)"
      ]
     },
     "execution_count": 197,
     "metadata": {},
     "output_type": "execute_result"
    }
   ],
   "source": [
    "(df['Fuel_Type'].unique())"
   ]
  },
  {
   "cell_type": "markdown",
   "id": "752d3185-d351-44e2-a3d3-a30527125f81",
   "metadata": {},
   "source": [
    "## 6. count how many cars per fule type"
   ]
  },
  {
   "cell_type": "code",
   "execution_count": 198,
   "id": "1d873481-e83c-49b6-ab82-7cf953e48686",
   "metadata": {},
   "outputs": [
    {
     "data": {
      "text/plain": [
       "Fuel_Type\n",
       "Petrol      25125\n",
       "Diesel      25089\n",
       "Hybrid      24934\n",
       "Electric    24852\n",
       "Name: count, dtype: int64"
      ]
     },
     "execution_count": 198,
     "metadata": {},
     "output_type": "execute_result"
    }
   ],
   "source": [
    "(df['Fuel_Type'].value_counts())"
   ]
  },
  {
   "cell_type": "markdown",
   "id": "9820555a-cfeb-4d5c-aa98-845b7fb31cc0",
   "metadata": {},
   "source": [
    "## 7. Sort dataset by price_ex_showroom (descending)"
   ]
  },
  {
   "cell_type": "code",
   "execution_count": 199,
   "id": "d762f9de-ded3-415f-aa0e-ffaae2810963",
   "metadata": {},
   "outputs": [],
   "source": [
    "df_sorted = df.sort_values(by = 'Price_Ex_Showroom', ascending=False)"
   ]
  },
  {
   "cell_type": "code",
   "execution_count": 200,
   "id": "083303c4-c493-4b73-9c2a-728b0df53c67",
   "metadata": {},
   "outputs": [
    {
     "data": {
      "text/html": [
       "<div>\n",
       "<style scoped>\n",
       "    .dataframe tbody tr th:only-of-type {\n",
       "        vertical-align: middle;\n",
       "    }\n",
       "\n",
       "    .dataframe tbody tr th {\n",
       "        vertical-align: top;\n",
       "    }\n",
       "\n",
       "    .dataframe thead th {\n",
       "        text-align: right;\n",
       "    }\n",
       "</style>\n",
       "<table border=\"1\" class=\"dataframe\">\n",
       "  <thead>\n",
       "    <tr style=\"text-align: right;\">\n",
       "      <th></th>\n",
       "      <th>ID</th>\n",
       "      <th>Model_Name</th>\n",
       "      <th>Variant</th>\n",
       "      <th>Year</th>\n",
       "      <th>Fuel_Type</th>\n",
       "      <th>Transmission</th>\n",
       "      <th>Engine_CC</th>\n",
       "      <th>Power_BHP</th>\n",
       "      <th>Torque_Nm</th>\n",
       "      <th>Mileage_kmpl</th>\n",
       "      <th>Price_Ex_Showroom</th>\n",
       "      <th>Owner_Type</th>\n",
       "      <th>Insurance_Valid_Till</th>\n",
       "      <th>Location</th>\n",
       "      <th>Registration_State</th>\n",
       "    </tr>\n",
       "  </thead>\n",
       "  <tbody>\n",
       "    <tr>\n",
       "      <th>71910</th>\n",
       "      <td>71911</td>\n",
       "      <td>X1</td>\n",
       "      <td>Luxury Line</td>\n",
       "      <td>2016</td>\n",
       "      <td>Diesel</td>\n",
       "      <td>Semi-Automatic</td>\n",
       "      <td>1998</td>\n",
       "      <td>370.37</td>\n",
       "      <td>693.15</td>\n",
       "      <td>9.58</td>\n",
       "      <td>135.00</td>\n",
       "      <td>First</td>\n",
       "      <td>2025</td>\n",
       "      <td>Mumbai</td>\n",
       "      <td>GJ</td>\n",
       "    </tr>\n",
       "    <tr>\n",
       "      <th>97582</th>\n",
       "      <td>97583</td>\n",
       "      <td>X7</td>\n",
       "      <td>M Sport</td>\n",
       "      <td>2012</td>\n",
       "      <td>Petrol</td>\n",
       "      <td>Manual</td>\n",
       "      <td>1496</td>\n",
       "      <td>589.90</td>\n",
       "      <td>538.34</td>\n",
       "      <td>22.72</td>\n",
       "      <td>135.00</td>\n",
       "      <td>Second</td>\n",
       "      <td>2025</td>\n",
       "      <td>Kolkata</td>\n",
       "      <td>MH</td>\n",
       "    </tr>\n",
       "    <tr>\n",
       "      <th>86274</th>\n",
       "      <td>86275</td>\n",
       "      <td>X7</td>\n",
       "      <td>M Sport</td>\n",
       "      <td>2024</td>\n",
       "      <td>Petrol</td>\n",
       "      <td>Manual</td>\n",
       "      <td>4395</td>\n",
       "      <td>374.25</td>\n",
       "      <td>350.79</td>\n",
       "      <td>19.55</td>\n",
       "      <td>135.00</td>\n",
       "      <td>Fourth &amp; Above</td>\n",
       "      <td>2022</td>\n",
       "      <td>Bangalore</td>\n",
       "      <td>KA</td>\n",
       "    </tr>\n",
       "    <tr>\n",
       "      <th>94872</th>\n",
       "      <td>94873</td>\n",
       "      <td>320d</td>\n",
       "      <td>Luxury Line</td>\n",
       "      <td>2018</td>\n",
       "      <td>Petrol</td>\n",
       "      <td>Manual</td>\n",
       "      <td>4395</td>\n",
       "      <td>571.83</td>\n",
       "      <td>384.33</td>\n",
       "      <td>20.38</td>\n",
       "      <td>135.00</td>\n",
       "      <td>First</td>\n",
       "      <td>2020</td>\n",
       "      <td>Ahmedabad</td>\n",
       "      <td>MH</td>\n",
       "    </tr>\n",
       "    <tr>\n",
       "      <th>62468</th>\n",
       "      <td>62469</td>\n",
       "      <td>520d</td>\n",
       "      <td>M Sport</td>\n",
       "      <td>2016</td>\n",
       "      <td>Hybrid</td>\n",
       "      <td>Semi-Automatic</td>\n",
       "      <td>1496</td>\n",
       "      <td>499.83</td>\n",
       "      <td>719.86</td>\n",
       "      <td>24.54</td>\n",
       "      <td>135.00</td>\n",
       "      <td>Fourth &amp; Above</td>\n",
       "      <td>2020</td>\n",
       "      <td>Ahmedabad</td>\n",
       "      <td>DL</td>\n",
       "    </tr>\n",
       "    <tr>\n",
       "      <th>...</th>\n",
       "      <td>...</td>\n",
       "      <td>...</td>\n",
       "      <td>...</td>\n",
       "      <td>...</td>\n",
       "      <td>...</td>\n",
       "      <td>...</td>\n",
       "      <td>...</td>\n",
       "      <td>...</td>\n",
       "      <td>...</td>\n",
       "      <td>...</td>\n",
       "      <td>...</td>\n",
       "      <td>...</td>\n",
       "      <td>...</td>\n",
       "      <td>...</td>\n",
       "      <td>...</td>\n",
       "    </tr>\n",
       "    <tr>\n",
       "      <th>18481</th>\n",
       "      <td>18482</td>\n",
       "      <td>M4</td>\n",
       "      <td>Luxury Line</td>\n",
       "      <td>2012</td>\n",
       "      <td>Hybrid</td>\n",
       "      <td>Semi-Automatic</td>\n",
       "      <td>4395</td>\n",
       "      <td>464.39</td>\n",
       "      <td>393.19</td>\n",
       "      <td>8.16</td>\n",
       "      <td>35.01</td>\n",
       "      <td>Third</td>\n",
       "      <td>2025</td>\n",
       "      <td>Hyderabad</td>\n",
       "      <td>TS</td>\n",
       "    </tr>\n",
       "    <tr>\n",
       "      <th>78097</th>\n",
       "      <td>78098</td>\n",
       "      <td>520d</td>\n",
       "      <td>xDrive</td>\n",
       "      <td>2013</td>\n",
       "      <td>Hybrid</td>\n",
       "      <td>Automatic</td>\n",
       "      <td>2993</td>\n",
       "      <td>299.45</td>\n",
       "      <td>617.47</td>\n",
       "      <td>10.79</td>\n",
       "      <td>35.01</td>\n",
       "      <td>First</td>\n",
       "      <td>2023</td>\n",
       "      <td>Mumbai</td>\n",
       "      <td>GJ</td>\n",
       "    </tr>\n",
       "    <tr>\n",
       "      <th>29372</th>\n",
       "      <td>29373</td>\n",
       "      <td>X1</td>\n",
       "      <td>Standard</td>\n",
       "      <td>2012</td>\n",
       "      <td>Electric</td>\n",
       "      <td>Automatic</td>\n",
       "      <td>1998</td>\n",
       "      <td>441.04</td>\n",
       "      <td>620.25</td>\n",
       "      <td>21.22</td>\n",
       "      <td>35.00</td>\n",
       "      <td>Third</td>\n",
       "      <td>2024</td>\n",
       "      <td>Hyderabad</td>\n",
       "      <td>TS</td>\n",
       "    </tr>\n",
       "    <tr>\n",
       "      <th>31867</th>\n",
       "      <td>31868</td>\n",
       "      <td>X3</td>\n",
       "      <td>M Sport</td>\n",
       "      <td>2022</td>\n",
       "      <td>Petrol</td>\n",
       "      <td>Manual</td>\n",
       "      <td>1998</td>\n",
       "      <td>210.82</td>\n",
       "      <td>311.29</td>\n",
       "      <td>21.88</td>\n",
       "      <td>35.00</td>\n",
       "      <td>Second</td>\n",
       "      <td>2020</td>\n",
       "      <td>Chennai</td>\n",
       "      <td>MH</td>\n",
       "    </tr>\n",
       "    <tr>\n",
       "      <th>99357</th>\n",
       "      <td>99358</td>\n",
       "      <td>520d</td>\n",
       "      <td>M Sport</td>\n",
       "      <td>2016</td>\n",
       "      <td>Hybrid</td>\n",
       "      <td>Semi-Automatic</td>\n",
       "      <td>1496</td>\n",
       "      <td>252.35</td>\n",
       "      <td>355.20</td>\n",
       "      <td>15.78</td>\n",
       "      <td>35.00</td>\n",
       "      <td>Second</td>\n",
       "      <td>2025</td>\n",
       "      <td>Kolkata</td>\n",
       "      <td>TN</td>\n",
       "    </tr>\n",
       "  </tbody>\n",
       "</table>\n",
       "<p>100000 rows × 15 columns</p>\n",
       "</div>"
      ],
      "text/plain": [
       "          ID Model_Name      Variant  Year Fuel_Type    Transmission  \\\n",
       "71910  71911         X1  Luxury Line  2016    Diesel  Semi-Automatic   \n",
       "97582  97583         X7      M Sport  2012    Petrol          Manual   \n",
       "86274  86275         X7      M Sport  2024    Petrol          Manual   \n",
       "94872  94873       320d  Luxury Line  2018    Petrol          Manual   \n",
       "62468  62469       520d      M Sport  2016    Hybrid  Semi-Automatic   \n",
       "...      ...        ...          ...   ...       ...             ...   \n",
       "18481  18482         M4  Luxury Line  2012    Hybrid  Semi-Automatic   \n",
       "78097  78098       520d       xDrive  2013    Hybrid       Automatic   \n",
       "29372  29373         X1     Standard  2012  Electric       Automatic   \n",
       "31867  31868         X3      M Sport  2022    Petrol          Manual   \n",
       "99357  99358       520d      M Sport  2016    Hybrid  Semi-Automatic   \n",
       "\n",
       "       Engine_CC  Power_BHP  Torque_Nm  Mileage_kmpl  Price_Ex_Showroom  \\\n",
       "71910       1998     370.37     693.15          9.58             135.00   \n",
       "97582       1496     589.90     538.34         22.72             135.00   \n",
       "86274       4395     374.25     350.79         19.55             135.00   \n",
       "94872       4395     571.83     384.33         20.38             135.00   \n",
       "62468       1496     499.83     719.86         24.54             135.00   \n",
       "...          ...        ...        ...           ...                ...   \n",
       "18481       4395     464.39     393.19          8.16              35.01   \n",
       "78097       2993     299.45     617.47         10.79              35.01   \n",
       "29372       1998     441.04     620.25         21.22              35.00   \n",
       "31867       1998     210.82     311.29         21.88              35.00   \n",
       "99357       1496     252.35     355.20         15.78              35.00   \n",
       "\n",
       "           Owner_Type  Insurance_Valid_Till   Location Registration_State  \n",
       "71910           First                  2025     Mumbai                 GJ  \n",
       "97582          Second                  2025    Kolkata                 MH  \n",
       "86274  Fourth & Above                  2022  Bangalore                 KA  \n",
       "94872           First                  2020  Ahmedabad                 MH  \n",
       "62468  Fourth & Above                  2020  Ahmedabad                 DL  \n",
       "...               ...                   ...        ...                ...  \n",
       "18481           Third                  2025  Hyderabad                 TS  \n",
       "78097           First                  2023     Mumbai                 GJ  \n",
       "29372           Third                  2024  Hyderabad                 TS  \n",
       "31867          Second                  2020    Chennai                 MH  \n",
       "99357          Second                  2025    Kolkata                 TN  \n",
       "\n",
       "[100000 rows x 15 columns]"
      ]
     },
     "execution_count": 200,
     "metadata": {},
     "output_type": "execute_result"
    }
   ],
   "source": [
    "df_sorted"
   ]
  },
  {
   "cell_type": "markdown",
   "id": "b05a7804-d4d5-4f46-9efb-ff59b8f7df33",
   "metadata": {},
   "source": [
    "## 8. Filter only Automatic transmission BMWs"
   ]
  },
  {
   "cell_type": "code",
   "execution_count": 201,
   "id": "9b49fdf4-58f5-4934-821d-2e1dded38064",
   "metadata": {},
   "outputs": [],
   "source": [
    "df_auto = df[df['Transmission'] == 'Automatic']"
   ]
  },
  {
   "cell_type": "code",
   "execution_count": 202,
   "id": "93e09915-c16c-49e7-88bb-ee377475c8dc",
   "metadata": {},
   "outputs": [
    {
     "data": {
      "text/html": [
       "<div>\n",
       "<style scoped>\n",
       "    .dataframe tbody tr th:only-of-type {\n",
       "        vertical-align: middle;\n",
       "    }\n",
       "\n",
       "    .dataframe tbody tr th {\n",
       "        vertical-align: top;\n",
       "    }\n",
       "\n",
       "    .dataframe thead th {\n",
       "        text-align: right;\n",
       "    }\n",
       "</style>\n",
       "<table border=\"1\" class=\"dataframe\">\n",
       "  <thead>\n",
       "    <tr style=\"text-align: right;\">\n",
       "      <th></th>\n",
       "      <th>ID</th>\n",
       "      <th>Model_Name</th>\n",
       "      <th>Variant</th>\n",
       "      <th>Year</th>\n",
       "      <th>Fuel_Type</th>\n",
       "      <th>Transmission</th>\n",
       "      <th>Engine_CC</th>\n",
       "      <th>Power_BHP</th>\n",
       "      <th>Torque_Nm</th>\n",
       "      <th>Mileage_kmpl</th>\n",
       "      <th>Price_Ex_Showroom</th>\n",
       "      <th>Owner_Type</th>\n",
       "      <th>Insurance_Valid_Till</th>\n",
       "      <th>Location</th>\n",
       "      <th>Registration_State</th>\n",
       "    </tr>\n",
       "  </thead>\n",
       "  <tbody>\n",
       "    <tr>\n",
       "      <th>1</th>\n",
       "      <td>2</td>\n",
       "      <td>X5</td>\n",
       "      <td>Luxury Line</td>\n",
       "      <td>2016</td>\n",
       "      <td>Electric</td>\n",
       "      <td>Automatic</td>\n",
       "      <td>1496</td>\n",
       "      <td>312.78</td>\n",
       "      <td>708.05</td>\n",
       "      <td>8.12</td>\n",
       "      <td>118.58</td>\n",
       "      <td>Second</td>\n",
       "      <td>2020</td>\n",
       "      <td>Chennai</td>\n",
       "      <td>DL</td>\n",
       "    </tr>\n",
       "    <tr>\n",
       "      <th>11</th>\n",
       "      <td>12</td>\n",
       "      <td>X7</td>\n",
       "      <td>M Sport</td>\n",
       "      <td>2019</td>\n",
       "      <td>Hybrid</td>\n",
       "      <td>Automatic</td>\n",
       "      <td>1998</td>\n",
       "      <td>174.84</td>\n",
       "      <td>426.92</td>\n",
       "      <td>19.75</td>\n",
       "      <td>108.27</td>\n",
       "      <td>Fourth &amp; Above</td>\n",
       "      <td>2020</td>\n",
       "      <td>Hyderabad</td>\n",
       "      <td>KA</td>\n",
       "    </tr>\n",
       "    <tr>\n",
       "      <th>14</th>\n",
       "      <td>15</td>\n",
       "      <td>M3</td>\n",
       "      <td>Standard</td>\n",
       "      <td>2017</td>\n",
       "      <td>Hybrid</td>\n",
       "      <td>Automatic</td>\n",
       "      <td>4395</td>\n",
       "      <td>381.58</td>\n",
       "      <td>578.18</td>\n",
       "      <td>14.35</td>\n",
       "      <td>115.75</td>\n",
       "      <td>First</td>\n",
       "      <td>2022</td>\n",
       "      <td>Delhi</td>\n",
       "      <td>TS</td>\n",
       "    </tr>\n",
       "    <tr>\n",
       "      <th>16</th>\n",
       "      <td>17</td>\n",
       "      <td>M4</td>\n",
       "      <td>Standard</td>\n",
       "      <td>2022</td>\n",
       "      <td>Hybrid</td>\n",
       "      <td>Automatic</td>\n",
       "      <td>4395</td>\n",
       "      <td>443.76</td>\n",
       "      <td>424.75</td>\n",
       "      <td>11.51</td>\n",
       "      <td>64.34</td>\n",
       "      <td>Third</td>\n",
       "      <td>2024</td>\n",
       "      <td>Chennai</td>\n",
       "      <td>TN</td>\n",
       "    </tr>\n",
       "    <tr>\n",
       "      <th>20</th>\n",
       "      <td>21</td>\n",
       "      <td>X5</td>\n",
       "      <td>Sport Line</td>\n",
       "      <td>2010</td>\n",
       "      <td>Hybrid</td>\n",
       "      <td>Automatic</td>\n",
       "      <td>1496</td>\n",
       "      <td>533.40</td>\n",
       "      <td>573.85</td>\n",
       "      <td>19.20</td>\n",
       "      <td>118.60</td>\n",
       "      <td>First</td>\n",
       "      <td>2024</td>\n",
       "      <td>Delhi</td>\n",
       "      <td>KA</td>\n",
       "    </tr>\n",
       "    <tr>\n",
       "      <th>...</th>\n",
       "      <td>...</td>\n",
       "      <td>...</td>\n",
       "      <td>...</td>\n",
       "      <td>...</td>\n",
       "      <td>...</td>\n",
       "      <td>...</td>\n",
       "      <td>...</td>\n",
       "      <td>...</td>\n",
       "      <td>...</td>\n",
       "      <td>...</td>\n",
       "      <td>...</td>\n",
       "      <td>...</td>\n",
       "      <td>...</td>\n",
       "      <td>...</td>\n",
       "      <td>...</td>\n",
       "    </tr>\n",
       "    <tr>\n",
       "      <th>99988</th>\n",
       "      <td>99989</td>\n",
       "      <td>X7</td>\n",
       "      <td>Sport Line</td>\n",
       "      <td>2019</td>\n",
       "      <td>Hybrid</td>\n",
       "      <td>Automatic</td>\n",
       "      <td>1496</td>\n",
       "      <td>155.25</td>\n",
       "      <td>607.03</td>\n",
       "      <td>13.93</td>\n",
       "      <td>133.59</td>\n",
       "      <td>First</td>\n",
       "      <td>2025</td>\n",
       "      <td>Hyderabad</td>\n",
       "      <td>TS</td>\n",
       "    </tr>\n",
       "    <tr>\n",
       "      <th>99990</th>\n",
       "      <td>99991</td>\n",
       "      <td>X5</td>\n",
       "      <td>xDrive</td>\n",
       "      <td>2013</td>\n",
       "      <td>Petrol</td>\n",
       "      <td>Automatic</td>\n",
       "      <td>1998</td>\n",
       "      <td>503.58</td>\n",
       "      <td>486.92</td>\n",
       "      <td>16.98</td>\n",
       "      <td>80.47</td>\n",
       "      <td>Fourth &amp; Above</td>\n",
       "      <td>2022</td>\n",
       "      <td>Delhi</td>\n",
       "      <td>KA</td>\n",
       "    </tr>\n",
       "    <tr>\n",
       "      <th>99991</th>\n",
       "      <td>99992</td>\n",
       "      <td>X1</td>\n",
       "      <td>Luxury Line</td>\n",
       "      <td>2023</td>\n",
       "      <td>Hybrid</td>\n",
       "      <td>Automatic</td>\n",
       "      <td>1496</td>\n",
       "      <td>232.21</td>\n",
       "      <td>420.22</td>\n",
       "      <td>15.52</td>\n",
       "      <td>110.45</td>\n",
       "      <td>Third</td>\n",
       "      <td>2021</td>\n",
       "      <td>Chennai</td>\n",
       "      <td>GJ</td>\n",
       "    </tr>\n",
       "    <tr>\n",
       "      <th>99996</th>\n",
       "      <td>99997</td>\n",
       "      <td>Z4</td>\n",
       "      <td>Sport Line</td>\n",
       "      <td>2021</td>\n",
       "      <td>Electric</td>\n",
       "      <td>Automatic</td>\n",
       "      <td>1496</td>\n",
       "      <td>562.64</td>\n",
       "      <td>730.43</td>\n",
       "      <td>13.45</td>\n",
       "      <td>70.56</td>\n",
       "      <td>Third</td>\n",
       "      <td>2021</td>\n",
       "      <td>Bangalore</td>\n",
       "      <td>TS</td>\n",
       "    </tr>\n",
       "    <tr>\n",
       "      <th>99997</th>\n",
       "      <td>99998</td>\n",
       "      <td>M4</td>\n",
       "      <td>Standard</td>\n",
       "      <td>2012</td>\n",
       "      <td>Hybrid</td>\n",
       "      <td>Automatic</td>\n",
       "      <td>2993</td>\n",
       "      <td>140.86</td>\n",
       "      <td>386.50</td>\n",
       "      <td>14.44</td>\n",
       "      <td>44.46</td>\n",
       "      <td>Fourth &amp; Above</td>\n",
       "      <td>2024</td>\n",
       "      <td>Kolkata</td>\n",
       "      <td>DL</td>\n",
       "    </tr>\n",
       "  </tbody>\n",
       "</table>\n",
       "<p>33665 rows × 15 columns</p>\n",
       "</div>"
      ],
      "text/plain": [
       "          ID Model_Name      Variant  Year Fuel_Type Transmission  Engine_CC  \\\n",
       "1          2         X5  Luxury Line  2016  Electric    Automatic       1496   \n",
       "11        12         X7      M Sport  2019    Hybrid    Automatic       1998   \n",
       "14        15         M3     Standard  2017    Hybrid    Automatic       4395   \n",
       "16        17         M4     Standard  2022    Hybrid    Automatic       4395   \n",
       "20        21         X5   Sport Line  2010    Hybrid    Automatic       1496   \n",
       "...      ...        ...          ...   ...       ...          ...        ...   \n",
       "99988  99989         X7   Sport Line  2019    Hybrid    Automatic       1496   \n",
       "99990  99991         X5       xDrive  2013    Petrol    Automatic       1998   \n",
       "99991  99992         X1  Luxury Line  2023    Hybrid    Automatic       1496   \n",
       "99996  99997         Z4   Sport Line  2021  Electric    Automatic       1496   \n",
       "99997  99998         M4     Standard  2012    Hybrid    Automatic       2993   \n",
       "\n",
       "       Power_BHP  Torque_Nm  Mileage_kmpl  Price_Ex_Showroom      Owner_Type  \\\n",
       "1         312.78     708.05          8.12             118.58          Second   \n",
       "11        174.84     426.92         19.75             108.27  Fourth & Above   \n",
       "14        381.58     578.18         14.35             115.75           First   \n",
       "16        443.76     424.75         11.51              64.34           Third   \n",
       "20        533.40     573.85         19.20             118.60           First   \n",
       "...          ...        ...           ...                ...             ...   \n",
       "99988     155.25     607.03         13.93             133.59           First   \n",
       "99990     503.58     486.92         16.98              80.47  Fourth & Above   \n",
       "99991     232.21     420.22         15.52             110.45           Third   \n",
       "99996     562.64     730.43         13.45              70.56           Third   \n",
       "99997     140.86     386.50         14.44              44.46  Fourth & Above   \n",
       "\n",
       "       Insurance_Valid_Till   Location Registration_State  \n",
       "1                      2020    Chennai                 DL  \n",
       "11                     2020  Hyderabad                 KA  \n",
       "14                     2022      Delhi                 TS  \n",
       "16                     2024    Chennai                 TN  \n",
       "20                     2024      Delhi                 KA  \n",
       "...                     ...        ...                ...  \n",
       "99988                  2025  Hyderabad                 TS  \n",
       "99990                  2022      Delhi                 KA  \n",
       "99991                  2021    Chennai                 GJ  \n",
       "99996                  2021  Bangalore                 TS  \n",
       "99997                  2024    Kolkata                 DL  \n",
       "\n",
       "[33665 rows x 15 columns]"
      ]
     },
     "execution_count": 202,
     "metadata": {},
     "output_type": "execute_result"
    }
   ],
   "source": [
    "df_auto"
   ]
  },
  {
   "cell_type": "markdown",
   "id": "8c70c530-b180-4a52-8fec-7b02181bda9f",
   "metadata": {},
   "source": [
    "## 9. Replace missing mileage with mean"
   ]
  },
  {
   "cell_type": "code",
   "execution_count": 203,
   "id": "0482e15c-0751-4925-bc0c-1c40bc83b2fa",
   "metadata": {},
   "outputs": [
    {
     "data": {
      "text/plain": [
       "Index(['ID', 'Model_Name', 'Variant', 'Year', 'Fuel_Type', 'Transmission',\n",
       "       'Engine_CC', 'Power_BHP', 'Torque_Nm', 'Mileage_kmpl',\n",
       "       'Price_Ex_Showroom', 'Owner_Type', 'Insurance_Valid_Till', 'Location',\n",
       "       'Registration_State'],\n",
       "      dtype='object')"
      ]
     },
     "execution_count": 203,
     "metadata": {},
     "output_type": "execute_result"
    }
   ],
   "source": [
    "#find column names\n",
    "df.columns.str.strip()"
   ]
  },
  {
   "cell_type": "code",
   "execution_count": 204,
   "id": "50ef0f94-2d1a-4751-b912-eb24286fff33",
   "metadata": {},
   "outputs": [],
   "source": [
    "mean_mileage_kmpl = df ['Mileage_kmpl'].mean()"
   ]
  },
  {
   "cell_type": "code",
   "execution_count": 205,
   "id": "ea77e094-797e-4b32-a126-6a7cb5fb09e4",
   "metadata": {},
   "outputs": [
    {
     "data": {
      "text/plain": [
       "np.float64(16.490543700000003)"
      ]
     },
     "execution_count": 205,
     "metadata": {},
     "output_type": "execute_result"
    }
   ],
   "source": [
    "mean_mileage_kmpl"
   ]
  },
  {
   "cell_type": "code",
   "execution_count": 206,
   "id": "397b7112-2d1a-49c9-859d-c288c8223646",
   "metadata": {},
   "outputs": [],
   "source": [
    "df['Mileage_kmpl'] = df['Mileage_kmpl'].fillna(mean_mileage_kmpl)"
   ]
  },
  {
   "cell_type": "code",
   "execution_count": 207,
   "id": "a6520f47-c9fd-4d99-98b4-a79b02642109",
   "metadata": {},
   "outputs": [
    {
     "data": {
      "text/plain": [
       "0        20.48\n",
       "1         8.12\n",
       "2        16.24\n",
       "3         9.80\n",
       "4        23.47\n",
       "         ...  \n",
       "99995     9.83\n",
       "99996    13.45\n",
       "99997    14.44\n",
       "99998    14.93\n",
       "99999    13.97\n",
       "Name: Mileage_kmpl, Length: 100000, dtype: float64"
      ]
     },
     "execution_count": 207,
     "metadata": {},
     "output_type": "execute_result"
    }
   ],
   "source": [
    "df['Mileage_kmpl']"
   ]
  },
  {
   "cell_type": "markdown",
   "id": "098e3c48-3fb0-4550-9fcb-6640813e48ec",
   "metadata": {},
   "source": [
    "## 10. Drop rows where engine_cc is null "
   ]
  },
  {
   "cell_type": "code",
   "execution_count": 208,
   "id": "f9efb15b-d634-4961-8567-ce5775a08775",
   "metadata": {},
   "outputs": [],
   "source": [
    "df =  df.dropna(subset=['Engine_CC'])"
   ]
  },
  {
   "cell_type": "code",
   "execution_count": 209,
   "id": "e384af10-f902-4de6-b0c1-1e1a71f4c6d3",
   "metadata": {},
   "outputs": [
    {
     "data": {
      "text/plain": [
       "<bound method DataFrame.dropna of            ID Model_Name      Variant  Year Fuel_Type    Transmission  \\\n",
       "0           1         X5       xDrive  2019  Electric          Manual   \n",
       "1           2         X5  Luxury Line  2016  Electric       Automatic   \n",
       "2           3         Z4      M Sport  2012  Electric  Semi-Automatic   \n",
       "3           4         X7      M Sport  2013    Hybrid  Semi-Automatic   \n",
       "4           5         X7       xDrive  2010  Electric          Manual   \n",
       "...       ...        ...          ...   ...       ...             ...   \n",
       "99995   99996         Z4   Sport Line  2014    Hybrid  Semi-Automatic   \n",
       "99996   99997         Z4   Sport Line  2021  Electric       Automatic   \n",
       "99997   99998         M4     Standard  2012    Hybrid       Automatic   \n",
       "99998   99999         X7  Luxury Line  2015  Electric          Manual   \n",
       "99999  100000       520d  Luxury Line  2020  Electric  Semi-Automatic   \n",
       "\n",
       "       Engine_CC  Power_BHP  Torque_Nm  Mileage_kmpl  Price_Ex_Showroom  \\\n",
       "0           1496     395.18     492.04         20.48              68.33   \n",
       "1           1496     312.78     708.05          8.12             118.58   \n",
       "2           4395     604.45     550.74         16.24             109.90   \n",
       "3           4395     383.04     413.78          9.80              41.05   \n",
       "4           2993     315.78     632.13         23.47             111.08   \n",
       "...          ...        ...        ...           ...                ...   \n",
       "99995       1998     208.30     385.44          9.83              99.15   \n",
       "99996       1496     562.64     730.43         13.45              70.56   \n",
       "99997       2993     140.86     386.50         14.44              44.46   \n",
       "99998       4395     434.00     548.41         14.93              84.82   \n",
       "99999       1496     392.05     307.86         13.97              77.14   \n",
       "\n",
       "           Owner_Type  Insurance_Valid_Till   Location Registration_State  \n",
       "0              Second                  2022  Hyderabad                 KA  \n",
       "1              Second                  2020    Chennai                 DL  \n",
       "2              Second                  2022  Hyderabad                 DL  \n",
       "3      Fourth & Above                  2023  Hyderabad                 DL  \n",
       "4               First                  2024    Chennai                 TS  \n",
       "...               ...                   ...        ...                ...  \n",
       "99995           First                  2022    Chennai                 TN  \n",
       "99996           Third                  2021  Bangalore                 TS  \n",
       "99997  Fourth & Above                  2024    Kolkata                 DL  \n",
       "99998          Second                  2022    Chennai                 TS  \n",
       "99999          Second                  2022       Pune                 DL  \n",
       "\n",
       "[100000 rows x 15 columns]>"
      ]
     },
     "execution_count": 209,
     "metadata": {},
     "output_type": "execute_result"
    }
   ],
   "source": [
    "df.dropna"
   ]
  },
  {
   "cell_type": "markdown",
   "id": "c52ea0d1-295b-447f-9c82-f74790600745",
   "metadata": {},
   "source": [
    "##  11.Group cars by model_name and calculate average price"
   ]
  },
  {
   "cell_type": "code",
   "execution_count": 210,
   "id": "3979a9ee-c3d6-44d4-8b34-67e2b798cc33",
   "metadata": {},
   "outputs": [],
   "source": [
    "avg_price_Ex_Showroom_by_model = df.groupby('Model_Name')['Price_Ex_Showroom'].mean()"
   ]
  },
  {
   "cell_type": "code",
   "execution_count": 211,
   "id": "c7557d43-f134-4bae-bbe8-f7b0469106f0",
   "metadata": {},
   "outputs": [
    {
     "data": {
      "text/plain": [
       "Model_Name\n",
       "320d    85.361262\n",
       "520d    85.270653\n",
       "M3      85.090345\n",
       "M4      85.223891\n",
       "X1      84.612881\n",
       "X3      85.528270\n",
       "X5      85.401622\n",
       "X7      84.835493\n",
       "Z4      85.307179\n",
       "i8      85.086266\n",
       "Name: Price_Ex_Showroom, dtype: float64"
      ]
     },
     "execution_count": 211,
     "metadata": {},
     "output_type": "execute_result"
    }
   ],
   "source": [
    "avg_price_Ex_Showroom_by_model"
   ]
  },
  {
   "cell_type": "markdown",
   "id": "93c5692f-8254-47e2-8608-de528d4e9cac",
   "metadata": {},
   "source": [
    "  ## 12.Create a new column car_Age=2025-Year"
   ]
  },
  {
   "cell_type": "code",
   "execution_count": 212,
   "id": "aef773e5-94c9-4b08-af74-ad8f0893f808",
   "metadata": {},
   "outputs": [],
   "source": [
    "#create new column for car age\n",
    "df['car_age']=2025-df['Year']"
   ]
  },
  {
   "cell_type": "code",
   "execution_count": 213,
   "id": "6a16b686-2c1f-4e22-b556-eead0b4914fc",
   "metadata": {
    "scrolled": true
   },
   "outputs": [
    {
     "data": {
      "text/plain": [
       "0         6\n",
       "1         9\n",
       "2        13\n",
       "3        12\n",
       "4        15\n",
       "         ..\n",
       "99995    11\n",
       "99996     4\n",
       "99997    13\n",
       "99998    10\n",
       "99999     5\n",
       "Name: car_age, Length: 100000, dtype: int64"
      ]
     },
     "execution_count": 213,
     "metadata": {},
     "output_type": "execute_result"
    }
   ],
   "source": [
    "df['car_age']"
   ]
  },
  {
   "cell_type": "code",
   "execution_count": 214,
   "id": "7ac39dc3-5389-437a-91b9-6b791ae5e64e",
   "metadata": {
    "scrolled": true
   },
   "outputs": [
    {
     "data": {
      "text/html": [
       "<div>\n",
       "<style scoped>\n",
       "    .dataframe tbody tr th:only-of-type {\n",
       "        vertical-align: middle;\n",
       "    }\n",
       "\n",
       "    .dataframe tbody tr th {\n",
       "        vertical-align: top;\n",
       "    }\n",
       "\n",
       "    .dataframe thead th {\n",
       "        text-align: right;\n",
       "    }\n",
       "</style>\n",
       "<table border=\"1\" class=\"dataframe\">\n",
       "  <thead>\n",
       "    <tr style=\"text-align: right;\">\n",
       "      <th></th>\n",
       "      <th>ID</th>\n",
       "      <th>Model_Name</th>\n",
       "      <th>Variant</th>\n",
       "      <th>Year</th>\n",
       "      <th>Fuel_Type</th>\n",
       "      <th>Transmission</th>\n",
       "      <th>Engine_CC</th>\n",
       "      <th>Power_BHP</th>\n",
       "      <th>Torque_Nm</th>\n",
       "      <th>Mileage_kmpl</th>\n",
       "      <th>Price_Ex_Showroom</th>\n",
       "      <th>Owner_Type</th>\n",
       "      <th>Insurance_Valid_Till</th>\n",
       "      <th>Location</th>\n",
       "      <th>Registration_State</th>\n",
       "      <th>car_age</th>\n",
       "    </tr>\n",
       "  </thead>\n",
       "  <tbody>\n",
       "    <tr>\n",
       "      <th>0</th>\n",
       "      <td>1</td>\n",
       "      <td>X5</td>\n",
       "      <td>xDrive</td>\n",
       "      <td>2019</td>\n",
       "      <td>Electric</td>\n",
       "      <td>Manual</td>\n",
       "      <td>1496</td>\n",
       "      <td>395.18</td>\n",
       "      <td>492.04</td>\n",
       "      <td>20.48</td>\n",
       "      <td>68.33</td>\n",
       "      <td>Second</td>\n",
       "      <td>2022</td>\n",
       "      <td>Hyderabad</td>\n",
       "      <td>KA</td>\n",
       "      <td>6</td>\n",
       "    </tr>\n",
       "    <tr>\n",
       "      <th>1</th>\n",
       "      <td>2</td>\n",
       "      <td>X5</td>\n",
       "      <td>Luxury Line</td>\n",
       "      <td>2016</td>\n",
       "      <td>Electric</td>\n",
       "      <td>Automatic</td>\n",
       "      <td>1496</td>\n",
       "      <td>312.78</td>\n",
       "      <td>708.05</td>\n",
       "      <td>8.12</td>\n",
       "      <td>118.58</td>\n",
       "      <td>Second</td>\n",
       "      <td>2020</td>\n",
       "      <td>Chennai</td>\n",
       "      <td>DL</td>\n",
       "      <td>9</td>\n",
       "    </tr>\n",
       "    <tr>\n",
       "      <th>2</th>\n",
       "      <td>3</td>\n",
       "      <td>Z4</td>\n",
       "      <td>M Sport</td>\n",
       "      <td>2012</td>\n",
       "      <td>Electric</td>\n",
       "      <td>Semi-Automatic</td>\n",
       "      <td>4395</td>\n",
       "      <td>604.45</td>\n",
       "      <td>550.74</td>\n",
       "      <td>16.24</td>\n",
       "      <td>109.90</td>\n",
       "      <td>Second</td>\n",
       "      <td>2022</td>\n",
       "      <td>Hyderabad</td>\n",
       "      <td>DL</td>\n",
       "      <td>13</td>\n",
       "    </tr>\n",
       "    <tr>\n",
       "      <th>3</th>\n",
       "      <td>4</td>\n",
       "      <td>X7</td>\n",
       "      <td>M Sport</td>\n",
       "      <td>2013</td>\n",
       "      <td>Hybrid</td>\n",
       "      <td>Semi-Automatic</td>\n",
       "      <td>4395</td>\n",
       "      <td>383.04</td>\n",
       "      <td>413.78</td>\n",
       "      <td>9.80</td>\n",
       "      <td>41.05</td>\n",
       "      <td>Fourth &amp; Above</td>\n",
       "      <td>2023</td>\n",
       "      <td>Hyderabad</td>\n",
       "      <td>DL</td>\n",
       "      <td>12</td>\n",
       "    </tr>\n",
       "    <tr>\n",
       "      <th>4</th>\n",
       "      <td>5</td>\n",
       "      <td>X7</td>\n",
       "      <td>xDrive</td>\n",
       "      <td>2010</td>\n",
       "      <td>Electric</td>\n",
       "      <td>Manual</td>\n",
       "      <td>2993</td>\n",
       "      <td>315.78</td>\n",
       "      <td>632.13</td>\n",
       "      <td>23.47</td>\n",
       "      <td>111.08</td>\n",
       "      <td>First</td>\n",
       "      <td>2024</td>\n",
       "      <td>Chennai</td>\n",
       "      <td>TS</td>\n",
       "      <td>15</td>\n",
       "    </tr>\n",
       "  </tbody>\n",
       "</table>\n",
       "</div>"
      ],
      "text/plain": [
       "   ID Model_Name      Variant  Year Fuel_Type    Transmission  Engine_CC  \\\n",
       "0   1         X5       xDrive  2019  Electric          Manual       1496   \n",
       "1   2         X5  Luxury Line  2016  Electric       Automatic       1496   \n",
       "2   3         Z4      M Sport  2012  Electric  Semi-Automatic       4395   \n",
       "3   4         X7      M Sport  2013    Hybrid  Semi-Automatic       4395   \n",
       "4   5         X7       xDrive  2010  Electric          Manual       2993   \n",
       "\n",
       "   Power_BHP  Torque_Nm  Mileage_kmpl  Price_Ex_Showroom      Owner_Type  \\\n",
       "0     395.18     492.04         20.48              68.33          Second   \n",
       "1     312.78     708.05          8.12             118.58          Second   \n",
       "2     604.45     550.74         16.24             109.90          Second   \n",
       "3     383.04     413.78          9.80              41.05  Fourth & Above   \n",
       "4     315.78     632.13         23.47             111.08           First   \n",
       "\n",
       "   Insurance_Valid_Till   Location Registration_State  car_age  \n",
       "0                  2022  Hyderabad                 KA        6  \n",
       "1                  2020    Chennai                 DL        9  \n",
       "2                  2022  Hyderabad                 DL       13  \n",
       "3                  2023  Hyderabad                 DL       12  \n",
       "4                  2024    Chennai                 TS       15  "
      ]
     },
     "execution_count": 214,
     "metadata": {},
     "output_type": "execute_result"
    }
   ],
   "source": [
    "#show rows to check \n",
    "df.head()"
   ]
  },
  {
   "cell_type": "markdown",
   "id": "f25ff4c7-2549-434c-9f55-c2843289d80c",
   "metadata": {},
   "source": [
    "## 13.Filter car priced above rs.60lakh"
   ]
  },
  {
   "cell_type": "code",
   "execution_count": 215,
   "id": "1eb071d4-00e6-48cd-89d5-b744b10844d0",
   "metadata": {},
   "outputs": [],
   "source": [
    "cars_above_60L = df[df['Price_Ex_Showroom'] > 60]"
   ]
  },
  {
   "cell_type": "code",
   "execution_count": 216,
   "id": "63dc2ee0-0aaa-4817-8c1f-aea78c8bb06f",
   "metadata": {},
   "outputs": [
    {
     "data": {
      "text/html": [
       "<div>\n",
       "<style scoped>\n",
       "    .dataframe tbody tr th:only-of-type {\n",
       "        vertical-align: middle;\n",
       "    }\n",
       "\n",
       "    .dataframe tbody tr th {\n",
       "        vertical-align: top;\n",
       "    }\n",
       "\n",
       "    .dataframe thead th {\n",
       "        text-align: right;\n",
       "    }\n",
       "</style>\n",
       "<table border=\"1\" class=\"dataframe\">\n",
       "  <thead>\n",
       "    <tr style=\"text-align: right;\">\n",
       "      <th></th>\n",
       "      <th>ID</th>\n",
       "      <th>Model_Name</th>\n",
       "      <th>Variant</th>\n",
       "      <th>Year</th>\n",
       "      <th>Fuel_Type</th>\n",
       "      <th>Transmission</th>\n",
       "      <th>Engine_CC</th>\n",
       "      <th>Power_BHP</th>\n",
       "      <th>Torque_Nm</th>\n",
       "      <th>Mileage_kmpl</th>\n",
       "      <th>Price_Ex_Showroom</th>\n",
       "      <th>Owner_Type</th>\n",
       "      <th>Insurance_Valid_Till</th>\n",
       "      <th>Location</th>\n",
       "      <th>Registration_State</th>\n",
       "      <th>car_age</th>\n",
       "    </tr>\n",
       "  </thead>\n",
       "  <tbody>\n",
       "    <tr>\n",
       "      <th>0</th>\n",
       "      <td>1</td>\n",
       "      <td>X5</td>\n",
       "      <td>xDrive</td>\n",
       "      <td>2019</td>\n",
       "      <td>Electric</td>\n",
       "      <td>Manual</td>\n",
       "      <td>1496</td>\n",
       "      <td>395.18</td>\n",
       "      <td>492.04</td>\n",
       "      <td>20.48</td>\n",
       "      <td>68.33</td>\n",
       "      <td>Second</td>\n",
       "      <td>2022</td>\n",
       "      <td>Hyderabad</td>\n",
       "      <td>KA</td>\n",
       "      <td>6</td>\n",
       "    </tr>\n",
       "    <tr>\n",
       "      <th>1</th>\n",
       "      <td>2</td>\n",
       "      <td>X5</td>\n",
       "      <td>Luxury Line</td>\n",
       "      <td>2016</td>\n",
       "      <td>Electric</td>\n",
       "      <td>Automatic</td>\n",
       "      <td>1496</td>\n",
       "      <td>312.78</td>\n",
       "      <td>708.05</td>\n",
       "      <td>8.12</td>\n",
       "      <td>118.58</td>\n",
       "      <td>Second</td>\n",
       "      <td>2020</td>\n",
       "      <td>Chennai</td>\n",
       "      <td>DL</td>\n",
       "      <td>9</td>\n",
       "    </tr>\n",
       "    <tr>\n",
       "      <th>2</th>\n",
       "      <td>3</td>\n",
       "      <td>Z4</td>\n",
       "      <td>M Sport</td>\n",
       "      <td>2012</td>\n",
       "      <td>Electric</td>\n",
       "      <td>Semi-Automatic</td>\n",
       "      <td>4395</td>\n",
       "      <td>604.45</td>\n",
       "      <td>550.74</td>\n",
       "      <td>16.24</td>\n",
       "      <td>109.90</td>\n",
       "      <td>Second</td>\n",
       "      <td>2022</td>\n",
       "      <td>Hyderabad</td>\n",
       "      <td>DL</td>\n",
       "      <td>13</td>\n",
       "    </tr>\n",
       "    <tr>\n",
       "      <th>4</th>\n",
       "      <td>5</td>\n",
       "      <td>X7</td>\n",
       "      <td>xDrive</td>\n",
       "      <td>2010</td>\n",
       "      <td>Electric</td>\n",
       "      <td>Manual</td>\n",
       "      <td>2993</td>\n",
       "      <td>315.78</td>\n",
       "      <td>632.13</td>\n",
       "      <td>23.47</td>\n",
       "      <td>111.08</td>\n",
       "      <td>First</td>\n",
       "      <td>2024</td>\n",
       "      <td>Chennai</td>\n",
       "      <td>TS</td>\n",
       "      <td>15</td>\n",
       "    </tr>\n",
       "    <tr>\n",
       "      <th>5</th>\n",
       "      <td>6</td>\n",
       "      <td>X1</td>\n",
       "      <td>M Sport</td>\n",
       "      <td>2012</td>\n",
       "      <td>Petrol</td>\n",
       "      <td>Manual</td>\n",
       "      <td>2993</td>\n",
       "      <td>193.38</td>\n",
       "      <td>457.96</td>\n",
       "      <td>24.68</td>\n",
       "      <td>124.46</td>\n",
       "      <td>Second</td>\n",
       "      <td>2021</td>\n",
       "      <td>Kolkata</td>\n",
       "      <td>KA</td>\n",
       "      <td>13</td>\n",
       "    </tr>\n",
       "    <tr>\n",
       "      <th>...</th>\n",
       "      <td>...</td>\n",
       "      <td>...</td>\n",
       "      <td>...</td>\n",
       "      <td>...</td>\n",
       "      <td>...</td>\n",
       "      <td>...</td>\n",
       "      <td>...</td>\n",
       "      <td>...</td>\n",
       "      <td>...</td>\n",
       "      <td>...</td>\n",
       "      <td>...</td>\n",
       "      <td>...</td>\n",
       "      <td>...</td>\n",
       "      <td>...</td>\n",
       "      <td>...</td>\n",
       "      <td>...</td>\n",
       "    </tr>\n",
       "    <tr>\n",
       "      <th>99994</th>\n",
       "      <td>99995</td>\n",
       "      <td>X1</td>\n",
       "      <td>xDrive</td>\n",
       "      <td>2015</td>\n",
       "      <td>Hybrid</td>\n",
       "      <td>Manual</td>\n",
       "      <td>1998</td>\n",
       "      <td>140.00</td>\n",
       "      <td>539.08</td>\n",
       "      <td>15.04</td>\n",
       "      <td>82.79</td>\n",
       "      <td>Fourth &amp; Above</td>\n",
       "      <td>2024</td>\n",
       "      <td>Ahmedabad</td>\n",
       "      <td>TS</td>\n",
       "      <td>10</td>\n",
       "    </tr>\n",
       "    <tr>\n",
       "      <th>99995</th>\n",
       "      <td>99996</td>\n",
       "      <td>Z4</td>\n",
       "      <td>Sport Line</td>\n",
       "      <td>2014</td>\n",
       "      <td>Hybrid</td>\n",
       "      <td>Semi-Automatic</td>\n",
       "      <td>1998</td>\n",
       "      <td>208.30</td>\n",
       "      <td>385.44</td>\n",
       "      <td>9.83</td>\n",
       "      <td>99.15</td>\n",
       "      <td>First</td>\n",
       "      <td>2022</td>\n",
       "      <td>Chennai</td>\n",
       "      <td>TN</td>\n",
       "      <td>11</td>\n",
       "    </tr>\n",
       "    <tr>\n",
       "      <th>99996</th>\n",
       "      <td>99997</td>\n",
       "      <td>Z4</td>\n",
       "      <td>Sport Line</td>\n",
       "      <td>2021</td>\n",
       "      <td>Electric</td>\n",
       "      <td>Automatic</td>\n",
       "      <td>1496</td>\n",
       "      <td>562.64</td>\n",
       "      <td>730.43</td>\n",
       "      <td>13.45</td>\n",
       "      <td>70.56</td>\n",
       "      <td>Third</td>\n",
       "      <td>2021</td>\n",
       "      <td>Bangalore</td>\n",
       "      <td>TS</td>\n",
       "      <td>4</td>\n",
       "    </tr>\n",
       "    <tr>\n",
       "      <th>99998</th>\n",
       "      <td>99999</td>\n",
       "      <td>X7</td>\n",
       "      <td>Luxury Line</td>\n",
       "      <td>2015</td>\n",
       "      <td>Electric</td>\n",
       "      <td>Manual</td>\n",
       "      <td>4395</td>\n",
       "      <td>434.00</td>\n",
       "      <td>548.41</td>\n",
       "      <td>14.93</td>\n",
       "      <td>84.82</td>\n",
       "      <td>Second</td>\n",
       "      <td>2022</td>\n",
       "      <td>Chennai</td>\n",
       "      <td>TS</td>\n",
       "      <td>10</td>\n",
       "    </tr>\n",
       "    <tr>\n",
       "      <th>99999</th>\n",
       "      <td>100000</td>\n",
       "      <td>520d</td>\n",
       "      <td>Luxury Line</td>\n",
       "      <td>2020</td>\n",
       "      <td>Electric</td>\n",
       "      <td>Semi-Automatic</td>\n",
       "      <td>1496</td>\n",
       "      <td>392.05</td>\n",
       "      <td>307.86</td>\n",
       "      <td>13.97</td>\n",
       "      <td>77.14</td>\n",
       "      <td>Second</td>\n",
       "      <td>2022</td>\n",
       "      <td>Pune</td>\n",
       "      <td>DL</td>\n",
       "      <td>5</td>\n",
       "    </tr>\n",
       "  </tbody>\n",
       "</table>\n",
       "<p>75155 rows × 16 columns</p>\n",
       "</div>"
      ],
      "text/plain": [
       "           ID Model_Name      Variant  Year Fuel_Type    Transmission  \\\n",
       "0           1         X5       xDrive  2019  Electric          Manual   \n",
       "1           2         X5  Luxury Line  2016  Electric       Automatic   \n",
       "2           3         Z4      M Sport  2012  Electric  Semi-Automatic   \n",
       "4           5         X7       xDrive  2010  Electric          Manual   \n",
       "5           6         X1      M Sport  2012    Petrol          Manual   \n",
       "...       ...        ...          ...   ...       ...             ...   \n",
       "99994   99995         X1       xDrive  2015    Hybrid          Manual   \n",
       "99995   99996         Z4   Sport Line  2014    Hybrid  Semi-Automatic   \n",
       "99996   99997         Z4   Sport Line  2021  Electric       Automatic   \n",
       "99998   99999         X7  Luxury Line  2015  Electric          Manual   \n",
       "99999  100000       520d  Luxury Line  2020  Electric  Semi-Automatic   \n",
       "\n",
       "       Engine_CC  Power_BHP  Torque_Nm  Mileage_kmpl  Price_Ex_Showroom  \\\n",
       "0           1496     395.18     492.04         20.48              68.33   \n",
       "1           1496     312.78     708.05          8.12             118.58   \n",
       "2           4395     604.45     550.74         16.24             109.90   \n",
       "4           2993     315.78     632.13         23.47             111.08   \n",
       "5           2993     193.38     457.96         24.68             124.46   \n",
       "...          ...        ...        ...           ...                ...   \n",
       "99994       1998     140.00     539.08         15.04              82.79   \n",
       "99995       1998     208.30     385.44          9.83              99.15   \n",
       "99996       1496     562.64     730.43         13.45              70.56   \n",
       "99998       4395     434.00     548.41         14.93              84.82   \n",
       "99999       1496     392.05     307.86         13.97              77.14   \n",
       "\n",
       "           Owner_Type  Insurance_Valid_Till   Location Registration_State  \\\n",
       "0              Second                  2022  Hyderabad                 KA   \n",
       "1              Second                  2020    Chennai                 DL   \n",
       "2              Second                  2022  Hyderabad                 DL   \n",
       "4               First                  2024    Chennai                 TS   \n",
       "5              Second                  2021    Kolkata                 KA   \n",
       "...               ...                   ...        ...                ...   \n",
       "99994  Fourth & Above                  2024  Ahmedabad                 TS   \n",
       "99995           First                  2022    Chennai                 TN   \n",
       "99996           Third                  2021  Bangalore                 TS   \n",
       "99998          Second                  2022    Chennai                 TS   \n",
       "99999          Second                  2022       Pune                 DL   \n",
       "\n",
       "       car_age  \n",
       "0            6  \n",
       "1            9  \n",
       "2           13  \n",
       "4           15  \n",
       "5           13  \n",
       "...        ...  \n",
       "99994       10  \n",
       "99995       11  \n",
       "99996        4  \n",
       "99998       10  \n",
       "99999        5  \n",
       "\n",
       "[75155 rows x 16 columns]"
      ]
     },
     "execution_count": 216,
     "metadata": {},
     "output_type": "execute_result"
    }
   ],
   "source": [
    "cars_above_60L"
   ]
  },
  {
   "cell_type": "markdown",
   "id": "0c0b1ffe-7ae3-4110-8e51-9b3ffaa50ed3",
   "metadata": {},
   "source": [
    "## 14.Find top 5 most common cities in the dataset"
   ]
  },
  {
   "cell_type": "code",
   "execution_count": 217,
   "id": "3b229ef2-32a5-40f8-b296-ee5cddfc7486",
   "metadata": {},
   "outputs": [],
   "source": [
    "top_5_cities=df['Location'].value_counts().head(5)"
   ]
  },
  {
   "cell_type": "code",
   "execution_count": 218,
   "id": "604e8721-37eb-469f-91a9-e640eaadd014",
   "metadata": {},
   "outputs": [
    {
     "data": {
      "text/plain": [
       "Location\n",
       "Ahmedabad    12668\n",
       "Chennai      12549\n",
       "Mumbai       12495\n",
       "Bangalore    12492\n",
       "Delhi        12478\n",
       "Name: count, dtype: int64"
      ]
     },
     "execution_count": 218,
     "metadata": {},
     "output_type": "execute_result"
    }
   ],
   "source": [
    "top_5_cities"
   ]
  },
  {
   "cell_type": "markdown",
   "id": "2a8e8398-cba7-498c-be46-d786bacd79f6",
   "metadata": {},
   "source": [
    "## 15.Plot histogram for mileage"
   ]
  },
  {
   "cell_type": "code",
   "execution_count": 219,
   "id": "ab7cc78a-f92b-40b0-bd4e-561299e7d24b",
   "metadata": {},
   "outputs": [],
   "source": [
    "import matplotlib.pyplot as plt"
   ]
  },
  {
   "cell_type": "code",
   "execution_count": 220,
   "id": "6ea528d1-b0c9-4f76-8496-5008243675d8",
   "metadata": {},
   "outputs": [
    {
     "data": {
      "text/plain": [
       "(array([4948., 5026., 4964., 5096., 5035., 4938., 5057., 5094., 4957.,\n",
       "        4985., 5019., 5008., 4931., 5053., 4884., 4897., 5036., 4994.,\n",
       "        5007., 5071.]),\n",
       " array([ 8.  ,  8.85,  9.7 , 10.55, 11.4 , 12.25, 13.1 , 13.95, 14.8 ,\n",
       "        15.65, 16.5 , 17.35, 18.2 , 19.05, 19.9 , 20.75, 21.6 , 22.45,\n",
       "        23.3 , 24.15, 25.  ]),\n",
       " <BarContainer object of 20 artists>)"
      ]
     },
     "execution_count": 220,
     "metadata": {},
     "output_type": "execute_result"
    },
    {
     "data": {
      "image/png": "[encoded data removed]",
      "text/plain": [
       "<Figure size 640x480 with 1 Axes>"
      ]
     },
     "metadata": {},
     "output_type": "display_data"
    }
   ],
   "source": [
    "# Plot histogram for Mileage\n",
    "plt.hist(df['Mileage_kmpl'], bins=20, edgecolor='black')"
   ]
  },
  {
   "cell_type": "code",
   "execution_count": 221,
   "id": "cf60a40a-fe38-4911-9446-9ac4a7392e1d",
   "metadata": {},
   "outputs": [
    {
     "data": {
      "image/png": "[encoded data removed]",
      "text/plain": [
       "<Figure size 640x480 with 1 Axes>"
      ]
     },
     "metadata": {},
     "output_type": "display_data"
    }
   ],
   "source": [
    "plt.xlabel('Mileage_kmpl (km/l)')\n",
    "plt.show()"
   ]
  },
  {
   "cell_type": "code",
   "execution_count": 222,
   "id": "290ecabd-99c9-4945-8306-8794d056466a",
   "metadata": {},
   "outputs": [
    {
     "data": {
      "image/png": "[encoded data removed]",
      "text/plain": [
       "<Figure size 640x480 with 1 Axes>"
      ]
     },
     "metadata": {},
     "output_type": "display_data"
    }
   ],
   "source": [
    "plt.ylabel('Number of Cars')\n",
    "plt.show()"
   ]
  },
  {
   "cell_type": "code",
   "execution_count": 223,
   "id": "ad7d3964-1adc-434c-a7bf-75f9b4b6aa12",
   "metadata": {},
   "outputs": [
    {
     "data": {
      "image/png": "[encoded data removed]",
      "text/plain": [
       "<Figure size 640x480 with 1 Axes>"
      ]
     },
     "metadata": {},
     "output_type": "display_data"
    }
   ],
   "source": [
    "plt.title('Mileage Distribution')\n",
    "plt.show()"
   ]
  },
  {
   "cell_type": "markdown",
   "id": "16aba6d4-9b8f-4c94-9477-328552983f65",
   "metadata": {},
   "source": [
    "##  16.create a bar chart of fule type vs avarage power"
   ]
  },
  {
   "cell_type": "code",
   "execution_count": 224,
   "id": "15f3777e-1af1-4d78-816b-cee42957341f",
   "metadata": {},
   "outputs": [
    {
     "data": {
      "text/plain": [
       "Index(['ID', 'Model_Name', 'Variant', 'Year', 'Fuel_Type', 'Transmission',\n",
       "       'Engine_CC', 'Power_BHP', 'Torque_Nm', 'Mileage_kmpl',\n",
       "       'Price_Ex_Showroom', 'Owner_Type', 'Insurance_Valid_Till', 'Location',\n",
       "       'Registration_State', 'car_age'],\n",
       "      dtype='object')"
      ]
     },
     "execution_count": 224,
     "metadata": {},
     "output_type": "execute_result"
    }
   ],
   "source": [
    "#find column names\n",
    "df.columns.str.strip()"
   ]
  },
  {
   "cell_type": "code",
   "execution_count": 225,
   "id": "572c054c-8c05-4a93-8770-32559e2230f5",
   "metadata": {},
   "outputs": [],
   "source": [
    "import matplotlib.pyplot as plt\n",
    "\n"
   ]
  },
  {
   "cell_type": "code",
   "execution_count": 226,
   "id": "74064a10-1814-47a5-bf50-a86e9fe2f292",
   "metadata": {},
   "outputs": [],
   "source": [
    "# Calculate average Power for each Fuel Type\n",
    "avg_power_BHP_by_fuel = df.groupby('Fuel_Type')['Power_BHP'].mean()"
   ]
  },
  {
   "cell_type": "code",
   "execution_count": 227,
   "id": "87343481-338d-49b6-83da-9546b1a7e95e",
   "metadata": {},
   "outputs": [
    {
     "data": {
      "text/plain": [
       "Fuel_Type\n",
       "Diesel      383.501966\n",
       "Electric    382.234864\n",
       "Hybrid      381.394247\n",
       "Petrol      380.581122\n",
       "Name: Power_BHP, dtype: float64"
      ]
     },
     "execution_count": 227,
     "metadata": {},
     "output_type": "execute_result"
    }
   ],
   "source": [
    "avg_power_BHP_by_fuel"
   ]
  },
  {
   "cell_type": "code",
   "execution_count": 228,
   "id": "d726446a-31c4-4a47-8454-385ca6540fa3",
   "metadata": {},
   "outputs": [
    {
     "data": {
      "text/plain": [
       "Text(0.5, 0, 'Fuel Type')"
      ]
     },
     "execution_count": 228,
     "metadata": {},
     "output_type": "execute_result"
    },
    {
     "data": {
      "image/png": "[encoded data removed]",
      "text/plain": [
       "<Figure size 640x480 with 1 Axes>"
      ]
     },
     "metadata": {},
     "output_type": "display_data"
    }
   ],
   "source": [
    "# Plot bar chart\n",
    "avg_power_BHP_by_fuel.plot(kind='bar', color='pink', edgecolor='black')\n",
    "plt.xlabel('Fuel Type')"
   ]
  },
  {
   "cell_type": "code",
   "execution_count": 229,
   "id": "ce86e4e5-82d3-43c8-96ee-0f07bb56e9f6",
   "metadata": {
    "scrolled": true
   },
   "outputs": [
    {
     "data": {
      "text/plain": [
       "Text(0, 0.5, 'Average Power_BHP)')"
      ]
     },
     "execution_count": 229,
     "metadata": {},
     "output_type": "execute_result"
    },
    {
     "data": {
      "image/png": "[encoded data removed]",
      "text/plain": [
       "<Figure size 640x480 with 1 Axes>"
      ]
     },
     "metadata": {},
     "output_type": "display_data"
    }
   ],
   "source": [
    "plt.ylabel('Average Power_BHP)')"
   ]
  },
  {
   "cell_type": "code",
   "execution_count": 230,
   "id": "528d4eca-56c5-4a71-b942-3fb5a9645e61",
   "metadata": {},
   "outputs": [
    {
     "data": {
      "text/plain": [
       "Text(0.5, 1.0, 'Average Power by Fuel Type')"
      ]
     },
     "execution_count": 230,
     "metadata": {},
     "output_type": "execute_result"
    },
    {
     "data": {
      "image/png": "[encoded data removed]",
      "text/plain": [
       "<Figure size 640x480 with 1 Axes>"
      ]
     },
     "metadata": {},
     "output_type": "display_data"
    }
   ],
   "source": [
    "plt.title('Average Power by Fuel Type')"
   ]
  },
  {
   "cell_type": "markdown",
   "id": "2ec9ea10-ed61-4e1e-b79c-f16c9237eab5",
   "metadata": {},
   "source": [
    "## 17.Apply.loc[]to update fule type of electric variants"
   ]
  },
  {
   "cell_type": "code",
   "execution_count": 231,
   "id": "f5a853d4-7f2c-42fd-960a-dd392dc32aa0",
   "metadata": {},
   "outputs": [],
   "source": [
    "# Example: Update Fuel_Type to 'Electric' for electric variants\n",
    "df.loc[df['Variant'].str.contains('Electric', case=False, na=False), 'Fuel_Type'] = 'Electric'"
   ]
  },
  {
   "cell_type": "code",
   "execution_count": 232,
   "id": "1c602dd8-4a99-4718-85da-f50c8546ce02",
   "metadata": {},
   "outputs": [
    {
     "data": {
      "text/plain": [
       "<pandas.core.indexing._LocIndexer at 0x1f0bd8d8eb0>"
      ]
     },
     "execution_count": 232,
     "metadata": {},
     "output_type": "execute_result"
    }
   ],
   "source": [
    "df.loc"
   ]
  },
  {
   "cell_type": "code",
   "execution_count": 233,
   "id": "f251048a-f367-436f-b4c3-e6167378274a",
   "metadata": {},
   "outputs": [
    {
     "data": {
      "text/html": [
       "<div>\n",
       "<style scoped>\n",
       "    .dataframe tbody tr th:only-of-type {\n",
       "        vertical-align: middle;\n",
       "    }\n",
       "\n",
       "    .dataframe tbody tr th {\n",
       "        vertical-align: top;\n",
       "    }\n",
       "\n",
       "    .dataframe thead th {\n",
       "        text-align: right;\n",
       "    }\n",
       "</style>\n",
       "<table border=\"1\" class=\"dataframe\">\n",
       "  <thead>\n",
       "    <tr style=\"text-align: right;\">\n",
       "      <th></th>\n",
       "      <th>ID</th>\n",
       "      <th>Model_Name</th>\n",
       "      <th>Variant</th>\n",
       "      <th>Year</th>\n",
       "      <th>Fuel_Type</th>\n",
       "      <th>Transmission</th>\n",
       "      <th>Engine_CC</th>\n",
       "      <th>Power_BHP</th>\n",
       "      <th>Torque_Nm</th>\n",
       "      <th>Mileage_kmpl</th>\n",
       "      <th>Price_Ex_Showroom</th>\n",
       "      <th>Owner_Type</th>\n",
       "      <th>Insurance_Valid_Till</th>\n",
       "      <th>Location</th>\n",
       "      <th>Registration_State</th>\n",
       "      <th>car_age</th>\n",
       "    </tr>\n",
       "  </thead>\n",
       "  <tbody>\n",
       "    <tr>\n",
       "      <th>0</th>\n",
       "      <td>1</td>\n",
       "      <td>X5</td>\n",
       "      <td>xDrive</td>\n",
       "      <td>2019</td>\n",
       "      <td>Electric</td>\n",
       "      <td>Manual</td>\n",
       "      <td>1496</td>\n",
       "      <td>395.18</td>\n",
       "      <td>492.04</td>\n",
       "      <td>20.48</td>\n",
       "      <td>68.33</td>\n",
       "      <td>Second</td>\n",
       "      <td>2022</td>\n",
       "      <td>Hyderabad</td>\n",
       "      <td>KA</td>\n",
       "      <td>6</td>\n",
       "    </tr>\n",
       "    <tr>\n",
       "      <th>1</th>\n",
       "      <td>2</td>\n",
       "      <td>X5</td>\n",
       "      <td>Luxury Line</td>\n",
       "      <td>2016</td>\n",
       "      <td>Electric</td>\n",
       "      <td>Automatic</td>\n",
       "      <td>1496</td>\n",
       "      <td>312.78</td>\n",
       "      <td>708.05</td>\n",
       "      <td>8.12</td>\n",
       "      <td>118.58</td>\n",
       "      <td>Second</td>\n",
       "      <td>2020</td>\n",
       "      <td>Chennai</td>\n",
       "      <td>DL</td>\n",
       "      <td>9</td>\n",
       "    </tr>\n",
       "    <tr>\n",
       "      <th>2</th>\n",
       "      <td>3</td>\n",
       "      <td>Z4</td>\n",
       "      <td>M Sport</td>\n",
       "      <td>2012</td>\n",
       "      <td>Electric</td>\n",
       "      <td>Semi-Automatic</td>\n",
       "      <td>4395</td>\n",
       "      <td>604.45</td>\n",
       "      <td>550.74</td>\n",
       "      <td>16.24</td>\n",
       "      <td>109.90</td>\n",
       "      <td>Second</td>\n",
       "      <td>2022</td>\n",
       "      <td>Hyderabad</td>\n",
       "      <td>DL</td>\n",
       "      <td>13</td>\n",
       "    </tr>\n",
       "    <tr>\n",
       "      <th>4</th>\n",
       "      <td>5</td>\n",
       "      <td>X7</td>\n",
       "      <td>xDrive</td>\n",
       "      <td>2010</td>\n",
       "      <td>Electric</td>\n",
       "      <td>Manual</td>\n",
       "      <td>2993</td>\n",
       "      <td>315.78</td>\n",
       "      <td>632.13</td>\n",
       "      <td>23.47</td>\n",
       "      <td>111.08</td>\n",
       "      <td>First</td>\n",
       "      <td>2024</td>\n",
       "      <td>Chennai</td>\n",
       "      <td>TS</td>\n",
       "      <td>15</td>\n",
       "    </tr>\n",
       "    <tr>\n",
       "      <th>7</th>\n",
       "      <td>8</td>\n",
       "      <td>320d</td>\n",
       "      <td>Sport Line</td>\n",
       "      <td>2015</td>\n",
       "      <td>Electric</td>\n",
       "      <td>Semi-Automatic</td>\n",
       "      <td>1496</td>\n",
       "      <td>203.37</td>\n",
       "      <td>723.20</td>\n",
       "      <td>14.99</td>\n",
       "      <td>134.32</td>\n",
       "      <td>Third</td>\n",
       "      <td>2023</td>\n",
       "      <td>Ahmedabad</td>\n",
       "      <td>MH</td>\n",
       "      <td>10</td>\n",
       "    </tr>\n",
       "    <tr>\n",
       "      <th>...</th>\n",
       "      <td>...</td>\n",
       "      <td>...</td>\n",
       "      <td>...</td>\n",
       "      <td>...</td>\n",
       "      <td>...</td>\n",
       "      <td>...</td>\n",
       "      <td>...</td>\n",
       "      <td>...</td>\n",
       "      <td>...</td>\n",
       "      <td>...</td>\n",
       "      <td>...</td>\n",
       "      <td>...</td>\n",
       "      <td>...</td>\n",
       "      <td>...</td>\n",
       "      <td>...</td>\n",
       "      <td>...</td>\n",
       "    </tr>\n",
       "    <tr>\n",
       "      <th>99985</th>\n",
       "      <td>99986</td>\n",
       "      <td>520d</td>\n",
       "      <td>Luxury Line</td>\n",
       "      <td>2016</td>\n",
       "      <td>Electric</td>\n",
       "      <td>Semi-Automatic</td>\n",
       "      <td>1998</td>\n",
       "      <td>282.47</td>\n",
       "      <td>371.84</td>\n",
       "      <td>14.79</td>\n",
       "      <td>116.33</td>\n",
       "      <td>Fourth &amp; Above</td>\n",
       "      <td>2024</td>\n",
       "      <td>Ahmedabad</td>\n",
       "      <td>MH</td>\n",
       "      <td>9</td>\n",
       "    </tr>\n",
       "    <tr>\n",
       "      <th>99989</th>\n",
       "      <td>99990</td>\n",
       "      <td>M3</td>\n",
       "      <td>Standard</td>\n",
       "      <td>2015</td>\n",
       "      <td>Electric</td>\n",
       "      <td>Manual</td>\n",
       "      <td>1998</td>\n",
       "      <td>612.18</td>\n",
       "      <td>383.12</td>\n",
       "      <td>19.57</td>\n",
       "      <td>94.83</td>\n",
       "      <td>Fourth &amp; Above</td>\n",
       "      <td>2022</td>\n",
       "      <td>Bangalore</td>\n",
       "      <td>GJ</td>\n",
       "      <td>10</td>\n",
       "    </tr>\n",
       "    <tr>\n",
       "      <th>99996</th>\n",
       "      <td>99997</td>\n",
       "      <td>Z4</td>\n",
       "      <td>Sport Line</td>\n",
       "      <td>2021</td>\n",
       "      <td>Electric</td>\n",
       "      <td>Automatic</td>\n",
       "      <td>1496</td>\n",
       "      <td>562.64</td>\n",
       "      <td>730.43</td>\n",
       "      <td>13.45</td>\n",
       "      <td>70.56</td>\n",
       "      <td>Third</td>\n",
       "      <td>2021</td>\n",
       "      <td>Bangalore</td>\n",
       "      <td>TS</td>\n",
       "      <td>4</td>\n",
       "    </tr>\n",
       "    <tr>\n",
       "      <th>99998</th>\n",
       "      <td>99999</td>\n",
       "      <td>X7</td>\n",
       "      <td>Luxury Line</td>\n",
       "      <td>2015</td>\n",
       "      <td>Electric</td>\n",
       "      <td>Manual</td>\n",
       "      <td>4395</td>\n",
       "      <td>434.00</td>\n",
       "      <td>548.41</td>\n",
       "      <td>14.93</td>\n",
       "      <td>84.82</td>\n",
       "      <td>Second</td>\n",
       "      <td>2022</td>\n",
       "      <td>Chennai</td>\n",
       "      <td>TS</td>\n",
       "      <td>10</td>\n",
       "    </tr>\n",
       "    <tr>\n",
       "      <th>99999</th>\n",
       "      <td>100000</td>\n",
       "      <td>520d</td>\n",
       "      <td>Luxury Line</td>\n",
       "      <td>2020</td>\n",
       "      <td>Electric</td>\n",
       "      <td>Semi-Automatic</td>\n",
       "      <td>1496</td>\n",
       "      <td>392.05</td>\n",
       "      <td>307.86</td>\n",
       "      <td>13.97</td>\n",
       "      <td>77.14</td>\n",
       "      <td>Second</td>\n",
       "      <td>2022</td>\n",
       "      <td>Pune</td>\n",
       "      <td>DL</td>\n",
       "      <td>5</td>\n",
       "    </tr>\n",
       "  </tbody>\n",
       "</table>\n",
       "<p>24852 rows × 16 columns</p>\n",
       "</div>"
      ],
      "text/plain": [
       "           ID Model_Name      Variant  Year Fuel_Type    Transmission  \\\n",
       "0           1         X5       xDrive  2019  Electric          Manual   \n",
       "1           2         X5  Luxury Line  2016  Electric       Automatic   \n",
       "2           3         Z4      M Sport  2012  Electric  Semi-Automatic   \n",
       "4           5         X7       xDrive  2010  Electric          Manual   \n",
       "7           8       320d   Sport Line  2015  Electric  Semi-Automatic   \n",
       "...       ...        ...          ...   ...       ...             ...   \n",
       "99985   99986       520d  Luxury Line  2016  Electric  Semi-Automatic   \n",
       "99989   99990         M3     Standard  2015  Electric          Manual   \n",
       "99996   99997         Z4   Sport Line  2021  Electric       Automatic   \n",
       "99998   99999         X7  Luxury Line  2015  Electric          Manual   \n",
       "99999  100000       520d  Luxury Line  2020  Electric  Semi-Automatic   \n",
       "\n",
       "       Engine_CC  Power_BHP  Torque_Nm  Mileage_kmpl  Price_Ex_Showroom  \\\n",
       "0           1496     395.18     492.04         20.48              68.33   \n",
       "1           1496     312.78     708.05          8.12             118.58   \n",
       "2           4395     604.45     550.74         16.24             109.90   \n",
       "4           2993     315.78     632.13         23.47             111.08   \n",
       "7           1496     203.37     723.20         14.99             134.32   \n",
       "...          ...        ...        ...           ...                ...   \n",
       "99985       1998     282.47     371.84         14.79             116.33   \n",
       "99989       1998     612.18     383.12         19.57              94.83   \n",
       "99996       1496     562.64     730.43         13.45              70.56   \n",
       "99998       4395     434.00     548.41         14.93              84.82   \n",
       "99999       1496     392.05     307.86         13.97              77.14   \n",
       "\n",
       "           Owner_Type  Insurance_Valid_Till   Location Registration_State  \\\n",
       "0              Second                  2022  Hyderabad                 KA   \n",
       "1              Second                  2020    Chennai                 DL   \n",
       "2              Second                  2022  Hyderabad                 DL   \n",
       "4               First                  2024    Chennai                 TS   \n",
       "7               Third                  2023  Ahmedabad                 MH   \n",
       "...               ...                   ...        ...                ...   \n",
       "99985  Fourth & Above                  2024  Ahmedabad                 MH   \n",
       "99989  Fourth & Above                  2022  Bangalore                 GJ   \n",
       "99996           Third                  2021  Bangalore                 TS   \n",
       "99998          Second                  2022    Chennai                 TS   \n",
       "99999          Second                  2022       Pune                 DL   \n",
       "\n",
       "       car_age  \n",
       "0            6  \n",
       "1            9  \n",
       "2           13  \n",
       "4           15  \n",
       "7           10  \n",
       "...        ...  \n",
       "99985        9  \n",
       "99989       10  \n",
       "99996        4  \n",
       "99998       10  \n",
       "99999        5  \n",
       "\n",
       "[24852 rows x 16 columns]"
      ]
     },
     "execution_count": 233,
     "metadata": {},
     "output_type": "execute_result"
    }
   ],
   "source": [
    "df[df['Fuel_Type'] == 'Electric']"
   ]
  },
  {
   "cell_type": "markdown",
   "id": "f57ecb7c-ba98-4e08-a793-7ee47ed8bbab",
   "metadata": {},
   "source": [
    "## 18.Convert Price_Ex_Showroom from lakh to rs. value."
   ]
  },
  {
   "cell_type": "code",
   "execution_count": 234,
   "id": "fe0d7f1d-45f4-455c-9597-018e951ec4f1",
   "metadata": {},
   "outputs": [],
   "source": [
    "# Convert from lakh to rupees\n",
    "df['Price_Ex_Showroom'] = df['Price_Ex_Showroom'] * 100000\n"
   ]
  },
  {
   "cell_type": "code",
   "execution_count": 235,
   "id": "fe4c348d-4570-45d6-8292-65c4866f9470",
   "metadata": {},
   "outputs": [
    {
     "data": {
      "text/plain": [
       "0         6833000.0\n",
       "1        11858000.0\n",
       "2        10990000.0\n",
       "3         4105000.0\n",
       "4        11108000.0\n",
       "            ...    \n",
       "99995     9915000.0\n",
       "99996     7056000.0\n",
       "99997     4446000.0\n",
       "99998     8482000.0\n",
       "99999     7714000.0\n",
       "Name: Price_Ex_Showroom, Length: 100000, dtype: float64"
      ]
     },
     "execution_count": 235,
     "metadata": {},
     "output_type": "execute_result"
    }
   ],
   "source": [
    "df['Price_Ex_Showroom']"
   ]
  },
  {
   "cell_type": "markdown",
   "id": "750293a3-cf48-4a72-8e24-a77d4f4e8e5a",
   "metadata": {},
   "source": [
    "##  19.Find how many cars are older than 10 years"
   ]
  },
  {
   "cell_type": "code",
   "execution_count": 236,
   "id": "aed5e2f5-8371-465a-a634-abdc6576072b",
   "metadata": {},
   "outputs": [],
   "source": [
    " # Step 1: Calculate age\n",
    "df['Car_Age'] = 2025 - df['Year']\n"
   ]
  },
  {
   "cell_type": "code",
   "execution_count": 237,
   "id": "c5bf0446-5e1d-4f84-a534-1c8fbf4eb0c1",
   "metadata": {},
   "outputs": [
    {
     "data": {
      "text/plain": [
       "0         6\n",
       "1         9\n",
       "2        13\n",
       "3        12\n",
       "4        15\n",
       "         ..\n",
       "99995    11\n",
       "99996     4\n",
       "99997    13\n",
       "99998    10\n",
       "99999     5\n",
       "Name: Car_Age, Length: 100000, dtype: int64"
      ]
     },
     "execution_count": 237,
     "metadata": {},
     "output_type": "execute_result"
    }
   ],
   "source": [
    "df['Car_Age']"
   ]
  },
  {
   "cell_type": "code",
   "execution_count": 238,
   "id": "d69d9619-ca25-41c9-ae33-637a4bd04de8",
   "metadata": {},
   "outputs": [],
   "source": [
    "###### Step 2: Count cars older than 10 years\n",
    "older_than_10 = df[df['Car_Age'] > 10].shape[0]\n"
   ]
  },
  {
   "cell_type": "code",
   "execution_count": 239,
   "id": "1f912018-7b49-45b9-995d-b0af05e3f923",
   "metadata": {},
   "outputs": [
    {
     "data": {
      "text/plain": [
       "33320"
      ]
     },
     "execution_count": 239,
     "metadata": {},
     "output_type": "execute_result"
    }
   ],
   "source": [
    "older_than_10 "
   ]
  },
  {
   "cell_type": "markdown",
   "id": "f96e63e3-92f1-42d1-8425-e0088463608e",
   "metadata": {},
   "source": [
    "## 20.Count of cars by Owner_Type and Transmission.  "
   ]
  },
  {
   "cell_type": "code",
   "execution_count": 240,
   "id": "d88ce05e-f327-4a0f-af5f-263877b7e9f5",
   "metadata": {},
   "outputs": [],
   "source": [
    "# Group and count\n",
    "count_by_owner_trans = df.groupby(['Owner_Type', 'Transmission']).size().reset_index(name='Count')"
   ]
  },
  {
   "cell_type": "code",
   "execution_count": 241,
   "id": "d189ea35-d316-48e4-a60e-e9a7124381fa",
   "metadata": {},
   "outputs": [
    {
     "data": {
      "text/html": [
       "<div>\n",
       "<style scoped>\n",
       "    .dataframe tbody tr th:only-of-type {\n",
       "        vertical-align: middle;\n",
       "    }\n",
       "\n",
       "    .dataframe tbody tr th {\n",
       "        vertical-align: top;\n",
       "    }\n",
       "\n",
       "    .dataframe thead th {\n",
       "        text-align: right;\n",
       "    }\n",
       "</style>\n",
       "<table border=\"1\" class=\"dataframe\">\n",
       "  <thead>\n",
       "    <tr style=\"text-align: right;\">\n",
       "      <th></th>\n",
       "      <th>Owner_Type</th>\n",
       "      <th>Transmission</th>\n",
       "      <th>Count</th>\n",
       "    </tr>\n",
       "  </thead>\n",
       "  <tbody>\n",
       "    <tr>\n",
       "      <th>0</th>\n",
       "      <td>First</td>\n",
       "      <td>Automatic</td>\n",
       "      <td>8487</td>\n",
       "    </tr>\n",
       "    <tr>\n",
       "      <th>1</th>\n",
       "      <td>First</td>\n",
       "      <td>Manual</td>\n",
       "      <td>8223</td>\n",
       "    </tr>\n",
       "    <tr>\n",
       "      <th>2</th>\n",
       "      <td>First</td>\n",
       "      <td>Semi-Automatic</td>\n",
       "      <td>8332</td>\n",
       "    </tr>\n",
       "    <tr>\n",
       "      <th>3</th>\n",
       "      <td>Fourth &amp; Above</td>\n",
       "      <td>Automatic</td>\n",
       "      <td>8256</td>\n",
       "    </tr>\n",
       "    <tr>\n",
       "      <th>4</th>\n",
       "      <td>Fourth &amp; Above</td>\n",
       "      <td>Manual</td>\n",
       "      <td>8357</td>\n",
       "    </tr>\n",
       "    <tr>\n",
       "      <th>5</th>\n",
       "      <td>Fourth &amp; Above</td>\n",
       "      <td>Semi-Automatic</td>\n",
       "      <td>8378</td>\n",
       "    </tr>\n",
       "    <tr>\n",
       "      <th>6</th>\n",
       "      <td>Second</td>\n",
       "      <td>Automatic</td>\n",
       "      <td>8549</td>\n",
       "    </tr>\n",
       "    <tr>\n",
       "      <th>7</th>\n",
       "      <td>Second</td>\n",
       "      <td>Manual</td>\n",
       "      <td>8175</td>\n",
       "    </tr>\n",
       "    <tr>\n",
       "      <th>8</th>\n",
       "      <td>Second</td>\n",
       "      <td>Semi-Automatic</td>\n",
       "      <td>8240</td>\n",
       "    </tr>\n",
       "    <tr>\n",
       "      <th>9</th>\n",
       "      <td>Third</td>\n",
       "      <td>Automatic</td>\n",
       "      <td>8373</td>\n",
       "    </tr>\n",
       "    <tr>\n",
       "      <th>10</th>\n",
       "      <td>Third</td>\n",
       "      <td>Manual</td>\n",
       "      <td>8248</td>\n",
       "    </tr>\n",
       "    <tr>\n",
       "      <th>11</th>\n",
       "      <td>Third</td>\n",
       "      <td>Semi-Automatic</td>\n",
       "      <td>8382</td>\n",
       "    </tr>\n",
       "  </tbody>\n",
       "</table>\n",
       "</div>"
      ],
      "text/plain": [
       "        Owner_Type    Transmission  Count\n",
       "0            First       Automatic   8487\n",
       "1            First          Manual   8223\n",
       "2            First  Semi-Automatic   8332\n",
       "3   Fourth & Above       Automatic   8256\n",
       "4   Fourth & Above          Manual   8357\n",
       "5   Fourth & Above  Semi-Automatic   8378\n",
       "6           Second       Automatic   8549\n",
       "7           Second          Manual   8175\n",
       "8           Second  Semi-Automatic   8240\n",
       "9            Third       Automatic   8373\n",
       "10           Third          Manual   8248\n",
       "11           Third  Semi-Automatic   8382"
      ]
     },
     "execution_count": 241,
     "metadata": {},
     "output_type": "execute_result"
    }
   ],
   "source": [
    "count_by_owner_trans"
   ]
  },
  {
   "cell_type": "markdown",
   "id": "7906d4df-eb6a-4ac1-bb44-8c4ea7986ff5",
   "metadata": {},
   "source": [
    "## 21.Find maximum BHP in diesel cars."
   ]
  },
  {
   "cell_type": "code",
   "execution_count": 242,
   "id": "d78fec8c-2ad1-465d-bd14-a29ba318f066",
   "metadata": {},
   "outputs": [],
   "source": [
    "# Maximum BHP in diesel cars\n",
    "max_power_bhp_diesel = df[df['Fuel_Type'] == 'Diesel']['Power_BHP'].max()"
   ]
  },
  {
   "cell_type": "code",
   "execution_count": 243,
   "id": "e61b6e4c-a605-4f09-a3c9-05de4ba60106",
   "metadata": {},
   "outputs": [
    {
     "data": {
      "text/plain": [
       "624.98"
      ]
     },
     "execution_count": 243,
     "metadata": {},
     "output_type": "execute_result"
    }
   ],
   "source": [
    "max_power_bhp_diesel"
   ]
  },
  {
   "cell_type": "markdown",
   "id": "4dd43828-be0d-4b20-b8dc-c146bf8b0c26",
   "metadata": {},
   "source": [
    "## 22.Plot scatter plot of Engine_CC vs Price."
   ]
  },
  {
   "cell_type": "code",
   "execution_count": 244,
   "id": "8c38d7d7-85c5-4e00-bed0-9eea0d0e0fb0",
   "metadata": {},
   "outputs": [
    {
     "data": {
      "text/plain": [
       "<Figure size 800x500 with 0 Axes>"
      ]
     },
     "execution_count": 244,
     "metadata": {},
     "output_type": "execute_result"
    },
    {
     "data": {
      "text/plain": [
       "<Figure size 800x500 with 0 Axes>"
      ]
     },
     "metadata": {},
     "output_type": "display_data"
    }
   ],
   "source": [
    "import matplotlib.pyplot as plt\n",
    "\n",
    "# Scatter plot\n",
    "plt.figure(figsize=(8,5))\n"
   ]
  },
  {
   "cell_type": "code",
   "execution_count": 245,
   "id": "27b6a5ab-62a1-4d64-b8dc-20ef581e58c1",
   "metadata": {},
   "outputs": [
    {
     "data": {
      "text/plain": [
       "<matplotlib.collections.PathCollection at 0x1f0badd0410>"
      ]
     },
     "execution_count": 245,
     "metadata": {},
     "output_type": "execute_result"
    },
    {
     "data": {
      "image/png": "[encoded data removed]",
      "text/plain": [
       "<Figure size 640x480 with 1 Axes>"
      ]
     },
     "metadata": {},
     "output_type": "display_data"
    }
   ],
   "source": [
    "plt.scatter(df['Engine_CC'], df['Price_Ex_Showroom'], alpha=0.6)\n"
   ]
  },
  {
   "cell_type": "code",
   "execution_count": 246,
   "id": "ecf4878d-6cb7-4c88-b6fb-466cbfc8943e",
   "metadata": {},
   "outputs": [
    {
     "data": {
      "text/plain": [
       "Text(0.5, 0, 'Engine CC')"
      ]
     },
     "execution_count": 246,
     "metadata": {},
     "output_type": "execute_result"
    },
    {
     "data": {
      "image/png": "[encoded data removed]",
      "text/plain": [
       "<Figure size 640x480 with 1 Axes>"
      ]
     },
     "metadata": {},
     "output_type": "display_data"
    }
   ],
   "source": [
    "plt.xlabel('Engine CC')"
   ]
  },
  {
   "cell_type": "code",
   "execution_count": 247,
   "id": "c2dcd1b5-5533-4760-8d32-55dad45f4ce5",
   "metadata": {},
   "outputs": [
    {
     "data": {
      "text/plain": [
       "Text(0, 0.5, 'Price (Ex-Showroom)')"
      ]
     },
     "execution_count": 247,
     "metadata": {},
     "output_type": "execute_result"
    },
    {
     "data": {
      "image/png": "[encoded data removed]",
      "text/plain": [
       "<Figure size 640x480 with 1 Axes>"
      ]
     },
     "metadata": {},
     "output_type": "display_data"
    }
   ],
   "source": [
    "plt.ylabel('Price (Ex-Showroom)')\n"
   ]
  },
  {
   "cell_type": "code",
   "execution_count": 248,
   "id": "0af1fd94-4eb9-43eb-bb4a-8f7725c94d68",
   "metadata": {},
   "outputs": [
    {
     "data": {
      "text/plain": [
       "Text(0.5, 1.0, 'Engine CC vs Price')"
      ]
     },
     "execution_count": 248,
     "metadata": {},
     "output_type": "execute_result"
    },
    {
     "data": {
      "image/png": "[encoded data removed]",
      "text/plain": [
       "<Figure size 640x480 with 1 Axes>"
      ]
     },
     "metadata": {},
     "output_type": "display_data"
    }
   ],
   "source": [
    "plt.title('Engine CC vs Price')\n"
   ]
  },
  {
   "cell_type": "code",
   "execution_count": 249,
   "id": "b64929ca-d480-4610-899e-96d3894932b4",
   "metadata": {},
   "outputs": [
    {
     "data": {
      "image/png": "[encoded data removed]",
      "text/plain": [
       "<Figure size 640x480 with 1 Axes>"
      ]
     },
     "metadata": {},
     "output_type": "display_data"
    }
   ],
   "source": [
    "plt.grid(True)\n"
   ]
  },
  {
   "cell_type": "markdown",
   "id": "e8309137-fa46-462a-a5d4-f8bfa6450afe",
   "metadata": {},
   "source": [
    "## 23.Count number of variants per model."
   ]
  },
  {
   "cell_type": "code",
   "execution_count": 250,
   "id": "a21fc245-23a6-44b7-b9f9-7640ba51cf35",
   "metadata": {},
   "outputs": [],
   "source": [
    "# Count variants per model\n",
    "variants_per_model = df.groupby('Model_Name')['Variant'].nunique().reset_index(name='Variant_Count')"
   ]
  },
  {
   "cell_type": "code",
   "execution_count": 251,
   "id": "d5e67939-ca27-493c-bd9a-db4f03496e88",
   "metadata": {},
   "outputs": [
    {
     "data": {
      "text/html": [
       "<div>\n",
       "<style scoped>\n",
       "    .dataframe tbody tr th:only-of-type {\n",
       "        vertical-align: middle;\n",
       "    }\n",
       "\n",
       "    .dataframe tbody tr th {\n",
       "        vertical-align: top;\n",
       "    }\n",
       "\n",
       "    .dataframe thead th {\n",
       "        text-align: right;\n",
       "    }\n",
       "</style>\n",
       "<table border=\"1\" class=\"dataframe\">\n",
       "  <thead>\n",
       "    <tr style=\"text-align: right;\">\n",
       "      <th></th>\n",
       "      <th>Model_Name</th>\n",
       "      <th>Variant_Count</th>\n",
       "    </tr>\n",
       "  </thead>\n",
       "  <tbody>\n",
       "    <tr>\n",
       "      <th>0</th>\n",
       "      <td>320d</td>\n",
       "      <td>5</td>\n",
       "    </tr>\n",
       "    <tr>\n",
       "      <th>1</th>\n",
       "      <td>520d</td>\n",
       "      <td>5</td>\n",
       "    </tr>\n",
       "    <tr>\n",
       "      <th>2</th>\n",
       "      <td>M3</td>\n",
       "      <td>5</td>\n",
       "    </tr>\n",
       "    <tr>\n",
       "      <th>3</th>\n",
       "      <td>M4</td>\n",
       "      <td>5</td>\n",
       "    </tr>\n",
       "    <tr>\n",
       "      <th>4</th>\n",
       "      <td>X1</td>\n",
       "      <td>5</td>\n",
       "    </tr>\n",
       "    <tr>\n",
       "      <th>5</th>\n",
       "      <td>X3</td>\n",
       "      <td>5</td>\n",
       "    </tr>\n",
       "    <tr>\n",
       "      <th>6</th>\n",
       "      <td>X5</td>\n",
       "      <td>5</td>\n",
       "    </tr>\n",
       "    <tr>\n",
       "      <th>7</th>\n",
       "      <td>X7</td>\n",
       "      <td>5</td>\n",
       "    </tr>\n",
       "    <tr>\n",
       "      <th>8</th>\n",
       "      <td>Z4</td>\n",
       "      <td>5</td>\n",
       "    </tr>\n",
       "    <tr>\n",
       "      <th>9</th>\n",
       "      <td>i8</td>\n",
       "      <td>5</td>\n",
       "    </tr>\n",
       "  </tbody>\n",
       "</table>\n",
       "</div>"
      ],
      "text/plain": [
       "  Model_Name  Variant_Count\n",
       "0       320d              5\n",
       "1       520d              5\n",
       "2         M3              5\n",
       "3         M4              5\n",
       "4         X1              5\n",
       "5         X3              5\n",
       "6         X5              5\n",
       "7         X7              5\n",
       "8         Z4              5\n",
       "9         i8              5"
      ]
     },
     "execution_count": 251,
     "metadata": {},
     "output_type": "execute_result"
    }
   ],
   "source": [
    "\n",
    "variants_per_model"
   ]
  },
  {
   "cell_type": "markdown",
   "id": "af79aa74-4363-474b-bc64-adee010a1de5",
   "metadata": {},
   "source": [
    "## 24.Find car with max and min mileage."
   ]
  },
  {
   "cell_type": "code",
   "execution_count": 252,
   "id": "a09365d9-725d-4605-98e2-88f5104392f4",
   "metadata": {},
   "outputs": [],
   "source": [
    "# If Mileage column is numeric\n",
    "max_mileage_kmpl_car = df.loc[df['Mileage_kmpl'].idxmax()]"
   ]
  },
  {
   "cell_type": "code",
   "execution_count": 253,
   "id": "6bcfdbd6-6e2c-4dac-b369-763dd87d0b63",
   "metadata": {},
   "outputs": [
    {
     "data": {
      "text/plain": [
       "ID                            7542\n",
       "Model_Name                      M3\n",
       "Variant                     xDrive\n",
       "Year                          2013\n",
       "Fuel_Type                   Hybrid\n",
       "Transmission                Manual\n",
       "Engine_CC                     1496\n",
       "Power_BHP                   474.04\n",
       "Torque_Nm                   739.46\n",
       "Mileage_kmpl                  25.0\n",
       "Price_Ex_Showroom       13167000.0\n",
       "Owner_Type                   First\n",
       "Insurance_Valid_Till          2023\n",
       "Location                   Kolkata\n",
       "Registration_State              TN\n",
       "car_age                         12\n",
       "Car_Age                         12\n",
       "Name: 7541, dtype: object"
      ]
     },
     "execution_count": 253,
     "metadata": {},
     "output_type": "execute_result"
    }
   ],
   "source": [
    "max_mileage_kmpl_car"
   ]
  },
  {
   "cell_type": "code",
   "execution_count": 254,
   "id": "0eb72fee-39c5-4565-82f6-1a9a545c20b1",
   "metadata": {},
   "outputs": [
    {
     "data": {
      "text/plain": [
       "ID                                4144\n",
       "Model_Name                        320d\n",
       "Variant                        M Sport\n",
       "Year                              2014\n",
       "Fuel_Type                       Petrol\n",
       "Transmission                    Manual\n",
       "Engine_CC                         1998\n",
       "Power_BHP                        197.3\n",
       "Torque_Nm                       735.21\n",
       "Mileage_kmpl                       8.0\n",
       "Price_Ex_Showroom           10152000.0\n",
       "Owner_Type              Fourth & Above\n",
       "Insurance_Valid_Till              2023\n",
       "Location                       Kolkata\n",
       "Registration_State                  WB\n",
       "car_age                             11\n",
       "Car_Age                             11\n",
       "Name: 4143, dtype: object"
      ]
     },
     "execution_count": 254,
     "metadata": {},
     "output_type": "execute_result"
    }
   ],
   "source": [
    "min_mileage_kmpl_car = df.loc[df['Mileage_kmpl'].idxmin()]\n",
    "min_mileage_kmpl_car\n"
   ]
  },
  {
   "cell_type": "markdown",
   "id": "d07ac524-dec5-4060-be8d-424778ccd3f5",
   "metadata": {},
   "source": [
    "## 25.Calculate median price per year.\n"
   ]
  },
  {
   "cell_type": "code",
   "execution_count": 255,
   "id": "25ddd482-1b87-4c00-ac33-36aabfff4a77",
   "metadata": {},
   "outputs": [],
   "source": [
    "# Median Price per Year\n",
    "median_price_per_year = df.groupby('Year')['Price_Ex_Showroom'].median().reset_index(name='Median_Price')"
   ]
  },
  {
   "cell_type": "code",
   "execution_count": 256,
   "id": "08dec453-94e2-4ce4-ba21-a69e1c3ce87a",
   "metadata": {},
   "outputs": [
    {
     "data": {
      "text/html": [
       "<div>\n",
       "<style scoped>\n",
       "    .dataframe tbody tr th:only-of-type {\n",
       "        vertical-align: middle;\n",
       "    }\n",
       "\n",
       "    .dataframe tbody tr th {\n",
       "        vertical-align: top;\n",
       "    }\n",
       "\n",
       "    .dataframe thead th {\n",
       "        text-align: right;\n",
       "    }\n",
       "</style>\n",
       "<table border=\"1\" class=\"dataframe\">\n",
       "  <thead>\n",
       "    <tr style=\"text-align: right;\">\n",
       "      <th></th>\n",
       "      <th>Year</th>\n",
       "      <th>Median_Price</th>\n",
       "    </tr>\n",
       "  </thead>\n",
       "  <tbody>\n",
       "    <tr>\n",
       "      <th>0</th>\n",
       "      <td>2010</td>\n",
       "      <td>8599000.0</td>\n",
       "    </tr>\n",
       "    <tr>\n",
       "      <th>1</th>\n",
       "      <td>2011</td>\n",
       "      <td>8558500.0</td>\n",
       "    </tr>\n",
       "    <tr>\n",
       "      <th>2</th>\n",
       "      <td>2012</td>\n",
       "      <td>8485500.0</td>\n",
       "    </tr>\n",
       "    <tr>\n",
       "      <th>3</th>\n",
       "      <td>2013</td>\n",
       "      <td>8493000.0</td>\n",
       "    </tr>\n",
       "    <tr>\n",
       "      <th>4</th>\n",
       "      <td>2014</td>\n",
       "      <td>8484000.0</td>\n",
       "    </tr>\n",
       "    <tr>\n",
       "      <th>5</th>\n",
       "      <td>2015</td>\n",
       "      <td>8557000.0</td>\n",
       "    </tr>\n",
       "    <tr>\n",
       "      <th>6</th>\n",
       "      <td>2016</td>\n",
       "      <td>8546000.0</td>\n",
       "    </tr>\n",
       "    <tr>\n",
       "      <th>7</th>\n",
       "      <td>2017</td>\n",
       "      <td>8502000.0</td>\n",
       "    </tr>\n",
       "    <tr>\n",
       "      <th>8</th>\n",
       "      <td>2018</td>\n",
       "      <td>8509000.0</td>\n",
       "    </tr>\n",
       "    <tr>\n",
       "      <th>9</th>\n",
       "      <td>2019</td>\n",
       "      <td>8485000.0</td>\n",
       "    </tr>\n",
       "    <tr>\n",
       "      <th>10</th>\n",
       "      <td>2020</td>\n",
       "      <td>8515000.0</td>\n",
       "    </tr>\n",
       "    <tr>\n",
       "      <th>11</th>\n",
       "      <td>2021</td>\n",
       "      <td>8589000.0</td>\n",
       "    </tr>\n",
       "    <tr>\n",
       "      <th>12</th>\n",
       "      <td>2022</td>\n",
       "      <td>8526500.0</td>\n",
       "    </tr>\n",
       "    <tr>\n",
       "      <th>13</th>\n",
       "      <td>2023</td>\n",
       "      <td>8485000.0</td>\n",
       "    </tr>\n",
       "    <tr>\n",
       "      <th>14</th>\n",
       "      <td>2024</td>\n",
       "      <td>8524000.0</td>\n",
       "    </tr>\n",
       "  </tbody>\n",
       "</table>\n",
       "</div>"
      ],
      "text/plain": [
       "    Year  Median_Price\n",
       "0   2010     8599000.0\n",
       "1   2011     8558500.0\n",
       "2   2012     8485500.0\n",
       "3   2013     8493000.0\n",
       "4   2014     8484000.0\n",
       "5   2015     8557000.0\n",
       "6   2016     8546000.0\n",
       "7   2017     8502000.0\n",
       "8   2018     8509000.0\n",
       "9   2019     8485000.0\n",
       "10  2020     8515000.0\n",
       "11  2021     8589000.0\n",
       "12  2022     8526500.0\n",
       "13  2023     8485000.0\n",
       "14  2024     8524000.0"
      ]
     },
     "execution_count": 256,
     "metadata": {},
     "output_type": "execute_result"
    }
   ],
   "source": [
    "median_price_per_year"
   ]
  },
  {
   "cell_type": "markdown",
   "id": "32e9c512-7823-4dca-8121-b1c9e7cad610",
   "metadata": {},
   "source": [
    "## 26.Pivot table with Location vs Fuel_Type."
   ]
  },
  {
   "cell_type": "code",
   "execution_count": 257,
   "id": "9af64f51-813d-4772-8f7e-117eb442d814",
   "metadata": {},
   "outputs": [
    {
     "data": {
      "text/html": [
       "<div>\n",
       "<style scoped>\n",
       "    .dataframe tbody tr th:only-of-type {\n",
       "        vertical-align: middle;\n",
       "    }\n",
       "\n",
       "    .dataframe tbody tr th {\n",
       "        vertical-align: top;\n",
       "    }\n",
       "\n",
       "    .dataframe thead th {\n",
       "        text-align: right;\n",
       "    }\n",
       "</style>\n",
       "<table border=\"1\" class=\"dataframe\">\n",
       "  <thead>\n",
       "    <tr style=\"text-align: right;\">\n",
       "      <th>Fuel_Type</th>\n",
       "      <th>Diesel</th>\n",
       "      <th>Electric</th>\n",
       "      <th>Hybrid</th>\n",
       "      <th>Petrol</th>\n",
       "    </tr>\n",
       "    <tr>\n",
       "      <th>Location</th>\n",
       "      <th></th>\n",
       "      <th></th>\n",
       "      <th></th>\n",
       "      <th></th>\n",
       "    </tr>\n",
       "  </thead>\n",
       "  <tbody>\n",
       "    <tr>\n",
       "      <th>Ahmedabad</th>\n",
       "      <td>3210</td>\n",
       "      <td>3220</td>\n",
       "      <td>3095</td>\n",
       "      <td>3143</td>\n",
       "    </tr>\n",
       "    <tr>\n",
       "      <th>Bangalore</th>\n",
       "      <td>3074</td>\n",
       "      <td>3155</td>\n",
       "      <td>3183</td>\n",
       "      <td>3080</td>\n",
       "    </tr>\n",
       "    <tr>\n",
       "      <th>Chennai</th>\n",
       "      <td>3090</td>\n",
       "      <td>3171</td>\n",
       "      <td>3125</td>\n",
       "      <td>3163</td>\n",
       "    </tr>\n",
       "    <tr>\n",
       "      <th>Delhi</th>\n",
       "      <td>3201</td>\n",
       "      <td>3014</td>\n",
       "      <td>3078</td>\n",
       "      <td>3185</td>\n",
       "    </tr>\n",
       "    <tr>\n",
       "      <th>Hyderabad</th>\n",
       "      <td>3149</td>\n",
       "      <td>3069</td>\n",
       "      <td>3054</td>\n",
       "      <td>3168</td>\n",
       "    </tr>\n",
       "    <tr>\n",
       "      <th>Kolkata</th>\n",
       "      <td>3137</td>\n",
       "      <td>3093</td>\n",
       "      <td>3050</td>\n",
       "      <td>3135</td>\n",
       "    </tr>\n",
       "    <tr>\n",
       "      <th>Mumbai</th>\n",
       "      <td>3139</td>\n",
       "      <td>3080</td>\n",
       "      <td>3165</td>\n",
       "      <td>3111</td>\n",
       "    </tr>\n",
       "    <tr>\n",
       "      <th>Pune</th>\n",
       "      <td>3089</td>\n",
       "      <td>3050</td>\n",
       "      <td>3184</td>\n",
       "      <td>3140</td>\n",
       "    </tr>\n",
       "  </tbody>\n",
       "</table>\n",
       "</div>"
      ],
      "text/plain": [
       "Fuel_Type  Diesel  Electric  Hybrid  Petrol\n",
       "Location                                   \n",
       "Ahmedabad    3210      3220    3095    3143\n",
       "Bangalore    3074      3155    3183    3080\n",
       "Chennai      3090      3171    3125    3163\n",
       "Delhi        3201      3014    3078    3185\n",
       "Hyderabad    3149      3069    3054    3168\n",
       "Kolkata      3137      3093    3050    3135\n",
       "Mumbai       3139      3080    3165    3111\n",
       "Pune         3089      3050    3184    3140"
      ]
     },
     "execution_count": 257,
     "metadata": {},
     "output_type": "execute_result"
    }
   ],
   "source": [
    "# Pivot table: Location vs Fuel_Type\n",
    "pivot_table = pd.pivot_table(df, \n",
    "                             index='Location', \n",
    "                             columns='Fuel_Type', \n",
    "                             values='Model_Name',  # can be any column, we use count here\n",
    "                             aggfunc='count',\n",
    "                             fill_value=0)\n",
    "\n",
    "pivot_table"
   ]
  },
  {
   "cell_type": "markdown",
   "id": "168d9f69-f41e-4f4e-b1fb-7b55f8591c41",
   "metadata": {},
   "source": [
    "## 27.Create a column Is_Luxury (if Price > ₹70L = Yes)."
   ]
  },
  {
   "cell_type": "code",
   "execution_count": 258,
   "id": "edd7d680-910f-4dcc-9a29-802ba9eac8a8",
   "metadata": {},
   "outputs": [],
   "source": [
    "# Create Is_Luxury column\n",
    "df['Is_Luxury'] = df['Price_Ex_Showroom'].apply(lambda x: 'Yes' if x > 7000000 else 'No')"
   ]
  },
  {
   "cell_type": "code",
   "execution_count": 259,
   "id": "85ef7dda-1bda-4c0a-83d4-957953670f3b",
   "metadata": {},
   "outputs": [
    {
     "data": {
      "text/plain": [
       "0         No\n",
       "1        Yes\n",
       "2        Yes\n",
       "3         No\n",
       "4        Yes\n",
       "        ... \n",
       "99995    Yes\n",
       "99996    Yes\n",
       "99997     No\n",
       "99998    Yes\n",
       "99999    Yes\n",
       "Name: Is_Luxury, Length: 100000, dtype: object"
      ]
     },
     "execution_count": 259,
     "metadata": {},
     "output_type": "execute_result"
    }
   ],
   "source": [
    "df['Is_Luxury']"
   ]
  },
  {
   "cell_type": "markdown",
   "id": "eb403976-591b-4199-8202-95dee91b0f98",
   "metadata": {},
   "source": [
    "## 28.Remove duplicate rows if any."
   ]
  },
  {
   "cell_type": "code",
   "execution_count": 260,
   "id": "9c118bcc-9c2a-4467-a93a-06c9bd7c0b31",
   "metadata": {},
   "outputs": [],
   "source": [
    "# Remove duplicate rows\n",
    "df = df.drop_duplicates()\n"
   ]
  },
  {
   "cell_type": "code",
   "execution_count": 261,
   "id": "8a66364a-bca8-42f9-a9af-361035eed132",
   "metadata": {},
   "outputs": [],
   "source": [
    "df=df.reset_index\n"
   ]
  },
  {
   "cell_type": "code",
   "execution_count": 262,
   "id": "950f2a54-87c5-47b2-97dc-1fff2312b6bd",
   "metadata": {},
   "outputs": [
    {
     "data": {
      "text/plain": [
       "<bound method DataFrame.reset_index of            ID Model_Name      Variant  Year Fuel_Type    Transmission  \\\n",
       "0           1         X5       xDrive  2019  Electric          Manual   \n",
       "1           2         X5  Luxury Line  2016  Electric       Automatic   \n",
       "2           3         Z4      M Sport  2012  Electric  Semi-Automatic   \n",
       "3           4         X7      M Sport  2013    Hybrid  Semi-Automatic   \n",
       "4           5         X7       xDrive  2010  Electric          Manual   \n",
       "...       ...        ...          ...   ...       ...             ...   \n",
       "99995   99996         Z4   Sport Line  2014    Hybrid  Semi-Automatic   \n",
       "99996   99997         Z4   Sport Line  2021  Electric       Automatic   \n",
       "99997   99998         M4     Standard  2012    Hybrid       Automatic   \n",
       "99998   99999         X7  Luxury Line  2015  Electric          Manual   \n",
       "99999  100000       520d  Luxury Line  2020  Electric  Semi-Automatic   \n",
       "\n",
       "       Engine_CC  Power_BHP  Torque_Nm  Mileage_kmpl  Price_Ex_Showroom  \\\n",
       "0           1496     395.18     492.04         20.48          6833000.0   \n",
       "1           1496     312.78     708.05          8.12         11858000.0   \n",
       "2           4395     604.45     550.74         16.24         10990000.0   \n",
       "3           4395     383.04     413.78          9.80          4105000.0   \n",
       "4           2993     315.78     632.13         23.47         11108000.0   \n",
       "...          ...        ...        ...           ...                ...   \n",
       "99995       1998     208.30     385.44          9.83          9915000.0   \n",
       "99996       1496     562.64     730.43         13.45          7056000.0   \n",
       "99997       2993     140.86     386.50         14.44          4446000.0   \n",
       "99998       4395     434.00     548.41         14.93          8482000.0   \n",
       "99999       1496     392.05     307.86         13.97          7714000.0   \n",
       "\n",
       "           Owner_Type  Insurance_Valid_Till   Location Registration_State  \\\n",
       "0              Second                  2022  Hyderabad                 KA   \n",
       "1              Second                  2020    Chennai                 DL   \n",
       "2              Second                  2022  Hyderabad                 DL   \n",
       "3      Fourth & Above                  2023  Hyderabad                 DL   \n",
       "4               First                  2024    Chennai                 TS   \n",
       "...               ...                   ...        ...                ...   \n",
       "99995           First                  2022    Chennai                 TN   \n",
       "99996           Third                  2021  Bangalore                 TS   \n",
       "99997  Fourth & Above                  2024    Kolkata                 DL   \n",
       "99998          Second                  2022    Chennai                 TS   \n",
       "99999          Second                  2022       Pune                 DL   \n",
       "\n",
       "       car_age  Car_Age Is_Luxury  \n",
       "0            6        6        No  \n",
       "1            9        9       Yes  \n",
       "2           13       13       Yes  \n",
       "3           12       12        No  \n",
       "4           15       15       Yes  \n",
       "...        ...      ...       ...  \n",
       "99995       11       11       Yes  \n",
       "99996        4        4       Yes  \n",
       "99997       13       13        No  \n",
       "99998       10       10       Yes  \n",
       "99999        5        5       Yes  \n",
       "\n",
       "[100000 rows x 18 columns]>"
      ]
     },
     "execution_count": 262,
     "metadata": {},
     "output_type": "execute_result"
    }
   ],
   "source": [
    "df"
   ]
  },
  {
   "cell_type": "markdown",
   "id": "94b4bb79-3781-4af9-a84d-aef7df043efd",
   "metadata": {},
   "source": [
    "## 29.Apply filter: Diesel + Automatic + Above 200 BHP."
   ]
  },
  {
   "cell_type": "code",
   "execution_count": 270,
   "id": "05ff26d9-4b96-4d22-b233-bf03767b8bfe",
   "metadata": {},
   "outputs": [],
   "source": [
    "import pandas as pd "
   ]
  },
  {
   "cell_type": "code",
   "execution_count": 271,
   "id": "a75bd6f5-e1f5-41f3-a9d5-6642182c3485",
   "metadata": {},
   "outputs": [],
   "source": [
    "df=pd.read_csv('C:\\\\Users\\\\Vaishnavi\\\\OneDrive\\\\Desktop\\\\Pandas 1\\\\bmw_car\\\\bmw_car_data.csv')"
   ]
  },
  {
   "cell_type": "code",
   "execution_count": 273,
   "id": "e92499f6-b4a8-4d01-9f95-26cd228881ec",
   "metadata": {},
   "outputs": [
    {
     "name": "stdout",
     "output_type": "stream",
     "text": [
      "          ID Model_Name      Variant  Year Fuel_Type Transmission  Engine_CC  \\\n",
      "45        46         X3       xDrive  2016    Diesel    Automatic       1998   \n",
      "77        78         Z4  Luxury Line  2019    Diesel    Automatic       1998   \n",
      "118      119       520d      M Sport  2011    Diesel    Automatic       1998   \n",
      "127      128       520d      M Sport  2016    Diesel    Automatic       1496   \n",
      "138      139         Z4  Luxury Line  2024    Diesel    Automatic       4395   \n",
      "...      ...        ...          ...   ...       ...          ...        ...   \n",
      "99903  99904         Z4       xDrive  2012    Diesel    Automatic       4395   \n",
      "99919  99920       320d   Sport Line  2021    Diesel    Automatic       4395   \n",
      "99926  99927       520d     Standard  2021    Diesel    Automatic       1998   \n",
      "99934  99935         M3  Luxury Line  2018    Diesel    Automatic       4395   \n",
      "99947  99948         X7   Sport Line  2012    Diesel    Automatic       1998   \n",
      "\n",
      "       Power_BHP  Torque_Nm  Mileage_kmpl  Price_Ex_Showroom      Owner_Type  \\\n",
      "45        487.85     309.18         18.18              85.91  Fourth & Above   \n",
      "77        257.02     435.53         24.27              64.34          Second   \n",
      "118       349.39     441.50         14.33              75.27           Third   \n",
      "127       574.09     364.75         22.80             131.70           First   \n",
      "138       442.82     550.26         16.37              60.09           Third   \n",
      "...          ...        ...           ...                ...             ...   \n",
      "99903     450.75     335.93         17.63             112.61          Second   \n",
      "99919     269.10     565.04         19.72              57.51          Second   \n",
      "99926     426.14     377.34         21.33              99.41  Fourth & Above   \n",
      "99934     536.44     313.94         14.60              85.84           Third   \n",
      "99947     287.72     688.12         15.90              66.47          Second   \n",
      "\n",
      "       Insurance_Valid_Till   Location Registration_State  \n",
      "45                     2025      Delhi                 TN  \n",
      "77                     2022  Ahmedabad                 DL  \n",
      "118                    2024  Bangalore                 TS  \n",
      "127                    2024      Delhi                 TN  \n",
      "138                    2020       Pune                 MH  \n",
      "...                     ...        ...                ...  \n",
      "99903                  2021      Delhi                 GJ  \n",
      "99919                  2025    Chennai                 DL  \n",
      "99926                  2025  Ahmedabad                 GJ  \n",
      "99934                  2021      Delhi                 GJ  \n",
      "99947                  2025    Kolkata                 DL  \n",
      "\n",
      "[7473 rows x 15 columns]\n"
     ]
    }
   ],
   "source": [
    "# Apply filter\n",
    "filtered_cars = df[\n",
    "    (df['Fuel_Type'] == 'Diesel') &\n",
    "    (df['Transmission'] == 'Automatic') &\n",
    "    (df['Power_BHP'] > 200)\n",
    "]\n",
    "\n",
    "print(filtered_cars)"
   ]
  },
  {
   "cell_type": "markdown",
   "id": "6b6109c9-b15a-4a3a-ae4d-e51b7f9a12d2",
   "metadata": {},
   "source": [
    "## 30. Export filtered data to new CSV"
   ]
  },
  {
   "cell_type": "code",
   "execution_count": 274,
   "id": "9d2ebc08-6465-46cb-a781-a38c644e81af",
   "metadata": {},
   "outputs": [],
   "source": [
    "# Export filtered data to CSV\n",
    "filtered_cars.to_csv(\"filtered_cars.csv\", index=False)"
   ]
  },
  {
   "cell_type": "code",
   "execution_count": 275,
   "id": "3adbc678-4857-47b4-8544-bb662bf3c905",
   "metadata": {},
   "outputs": [
    {
     "data": {
      "text/html": [
       "<div>\n",
       "<style scoped>\n",
       "    .dataframe tbody tr th:only-of-type {\n",
       "        vertical-align: middle;\n",
       "    }\n",
       "\n",
       "    .dataframe tbody tr th {\n",
       "        vertical-align: top;\n",
       "    }\n",
       "\n",
       "    .dataframe thead th {\n",
       "        text-align: right;\n",
       "    }\n",
       "</style>\n",
       "<table border=\"1\" class=\"dataframe\">\n",
       "  <thead>\n",
       "    <tr style=\"text-align: right;\">\n",
       "      <th></th>\n",
       "      <th>ID</th>\n",
       "      <th>Model_Name</th>\n",
       "      <th>Variant</th>\n",
       "      <th>Year</th>\n",
       "      <th>Fuel_Type</th>\n",
       "      <th>Transmission</th>\n",
       "      <th>Engine_CC</th>\n",
       "      <th>Power_BHP</th>\n",
       "      <th>Torque_Nm</th>\n",
       "      <th>Mileage_kmpl</th>\n",
       "      <th>Price_Ex_Showroom</th>\n",
       "      <th>Owner_Type</th>\n",
       "      <th>Insurance_Valid_Till</th>\n",
       "      <th>Location</th>\n",
       "      <th>Registration_State</th>\n",
       "    </tr>\n",
       "  </thead>\n",
       "  <tbody>\n",
       "    <tr>\n",
       "      <th>45</th>\n",
       "      <td>46</td>\n",
       "      <td>X3</td>\n",
       "      <td>xDrive</td>\n",
       "      <td>2016</td>\n",
       "      <td>Diesel</td>\n",
       "      <td>Automatic</td>\n",
       "      <td>1998</td>\n",
       "      <td>487.85</td>\n",
       "      <td>309.18</td>\n",
       "      <td>18.18</td>\n",
       "      <td>85.91</td>\n",
       "      <td>Fourth &amp; Above</td>\n",
       "      <td>2025</td>\n",
       "      <td>Delhi</td>\n",
       "      <td>TN</td>\n",
       "    </tr>\n",
       "    <tr>\n",
       "      <th>77</th>\n",
       "      <td>78</td>\n",
       "      <td>Z4</td>\n",
       "      <td>Luxury Line</td>\n",
       "      <td>2019</td>\n",
       "      <td>Diesel</td>\n",
       "      <td>Automatic</td>\n",
       "      <td>1998</td>\n",
       "      <td>257.02</td>\n",
       "      <td>435.53</td>\n",
       "      <td>24.27</td>\n",
       "      <td>64.34</td>\n",
       "      <td>Second</td>\n",
       "      <td>2022</td>\n",
       "      <td>Ahmedabad</td>\n",
       "      <td>DL</td>\n",
       "    </tr>\n",
       "    <tr>\n",
       "      <th>118</th>\n",
       "      <td>119</td>\n",
       "      <td>520d</td>\n",
       "      <td>M Sport</td>\n",
       "      <td>2011</td>\n",
       "      <td>Diesel</td>\n",
       "      <td>Automatic</td>\n",
       "      <td>1998</td>\n",
       "      <td>349.39</td>\n",
       "      <td>441.50</td>\n",
       "      <td>14.33</td>\n",
       "      <td>75.27</td>\n",
       "      <td>Third</td>\n",
       "      <td>2024</td>\n",
       "      <td>Bangalore</td>\n",
       "      <td>TS</td>\n",
       "    </tr>\n",
       "    <tr>\n",
       "      <th>127</th>\n",
       "      <td>128</td>\n",
       "      <td>520d</td>\n",
       "      <td>M Sport</td>\n",
       "      <td>2016</td>\n",
       "      <td>Diesel</td>\n",
       "      <td>Automatic</td>\n",
       "      <td>1496</td>\n",
       "      <td>574.09</td>\n",
       "      <td>364.75</td>\n",
       "      <td>22.80</td>\n",
       "      <td>131.70</td>\n",
       "      <td>First</td>\n",
       "      <td>2024</td>\n",
       "      <td>Delhi</td>\n",
       "      <td>TN</td>\n",
       "    </tr>\n",
       "    <tr>\n",
       "      <th>138</th>\n",
       "      <td>139</td>\n",
       "      <td>Z4</td>\n",
       "      <td>Luxury Line</td>\n",
       "      <td>2024</td>\n",
       "      <td>Diesel</td>\n",
       "      <td>Automatic</td>\n",
       "      <td>4395</td>\n",
       "      <td>442.82</td>\n",
       "      <td>550.26</td>\n",
       "      <td>16.37</td>\n",
       "      <td>60.09</td>\n",
       "      <td>Third</td>\n",
       "      <td>2020</td>\n",
       "      <td>Pune</td>\n",
       "      <td>MH</td>\n",
       "    </tr>\n",
       "    <tr>\n",
       "      <th>...</th>\n",
       "      <td>...</td>\n",
       "      <td>...</td>\n",
       "      <td>...</td>\n",
       "      <td>...</td>\n",
       "      <td>...</td>\n",
       "      <td>...</td>\n",
       "      <td>...</td>\n",
       "      <td>...</td>\n",
       "      <td>...</td>\n",
       "      <td>...</td>\n",
       "      <td>...</td>\n",
       "      <td>...</td>\n",
       "      <td>...</td>\n",
       "      <td>...</td>\n",
       "      <td>...</td>\n",
       "    </tr>\n",
       "    <tr>\n",
       "      <th>99903</th>\n",
       "      <td>99904</td>\n",
       "      <td>Z4</td>\n",
       "      <td>xDrive</td>\n",
       "      <td>2012</td>\n",
       "      <td>Diesel</td>\n",
       "      <td>Automatic</td>\n",
       "      <td>4395</td>\n",
       "      <td>450.75</td>\n",
       "      <td>335.93</td>\n",
       "      <td>17.63</td>\n",
       "      <td>112.61</td>\n",
       "      <td>Second</td>\n",
       "      <td>2021</td>\n",
       "      <td>Delhi</td>\n",
       "      <td>GJ</td>\n",
       "    </tr>\n",
       "    <tr>\n",
       "      <th>99919</th>\n",
       "      <td>99920</td>\n",
       "      <td>320d</td>\n",
       "      <td>Sport Line</td>\n",
       "      <td>2021</td>\n",
       "      <td>Diesel</td>\n",
       "      <td>Automatic</td>\n",
       "      <td>4395</td>\n",
       "      <td>269.10</td>\n",
       "      <td>565.04</td>\n",
       "      <td>19.72</td>\n",
       "      <td>57.51</td>\n",
       "      <td>Second</td>\n",
       "      <td>2025</td>\n",
       "      <td>Chennai</td>\n",
       "      <td>DL</td>\n",
       "    </tr>\n",
       "    <tr>\n",
       "      <th>99926</th>\n",
       "      <td>99927</td>\n",
       "      <td>520d</td>\n",
       "      <td>Standard</td>\n",
       "      <td>2021</td>\n",
       "      <td>Diesel</td>\n",
       "      <td>Automatic</td>\n",
       "      <td>1998</td>\n",
       "      <td>426.14</td>\n",
       "      <td>377.34</td>\n",
       "      <td>21.33</td>\n",
       "      <td>99.41</td>\n",
       "      <td>Fourth &amp; Above</td>\n",
       "      <td>2025</td>\n",
       "      <td>Ahmedabad</td>\n",
       "      <td>GJ</td>\n",
       "    </tr>\n",
       "    <tr>\n",
       "      <th>99934</th>\n",
       "      <td>99935</td>\n",
       "      <td>M3</td>\n",
       "      <td>Luxury Line</td>\n",
       "      <td>2018</td>\n",
       "      <td>Diesel</td>\n",
       "      <td>Automatic</td>\n",
       "      <td>4395</td>\n",
       "      <td>536.44</td>\n",
       "      <td>313.94</td>\n",
       "      <td>14.60</td>\n",
       "      <td>85.84</td>\n",
       "      <td>Third</td>\n",
       "      <td>2021</td>\n",
       "      <td>Delhi</td>\n",
       "      <td>GJ</td>\n",
       "    </tr>\n",
       "    <tr>\n",
       "      <th>99947</th>\n",
       "      <td>99948</td>\n",
       "      <td>X7</td>\n",
       "      <td>Sport Line</td>\n",
       "      <td>2012</td>\n",
       "      <td>Diesel</td>\n",
       "      <td>Automatic</td>\n",
       "      <td>1998</td>\n",
       "      <td>287.72</td>\n",
       "      <td>688.12</td>\n",
       "      <td>15.90</td>\n",
       "      <td>66.47</td>\n",
       "      <td>Second</td>\n",
       "      <td>2025</td>\n",
       "      <td>Kolkata</td>\n",
       "      <td>DL</td>\n",
       "    </tr>\n",
       "  </tbody>\n",
       "</table>\n",
       "<p>7473 rows × 15 columns</p>\n",
       "</div>"
      ],
      "text/plain": [
       "          ID Model_Name      Variant  Year Fuel_Type Transmission  Engine_CC  \\\n",
       "45        46         X3       xDrive  2016    Diesel    Automatic       1998   \n",
       "77        78         Z4  Luxury Line  2019    Diesel    Automatic       1998   \n",
       "118      119       520d      M Sport  2011    Diesel    Automatic       1998   \n",
       "127      128       520d      M Sport  2016    Diesel    Automatic       1496   \n",
       "138      139         Z4  Luxury Line  2024    Diesel    Automatic       4395   \n",
       "...      ...        ...          ...   ...       ...          ...        ...   \n",
       "99903  99904         Z4       xDrive  2012    Diesel    Automatic       4395   \n",
       "99919  99920       320d   Sport Line  2021    Diesel    Automatic       4395   \n",
       "99926  99927       520d     Standard  2021    Diesel    Automatic       1998   \n",
       "99934  99935         M3  Luxury Line  2018    Diesel    Automatic       4395   \n",
       "99947  99948         X7   Sport Line  2012    Diesel    Automatic       1998   \n",
       "\n",
       "       Power_BHP  Torque_Nm  Mileage_kmpl  Price_Ex_Showroom      Owner_Type  \\\n",
       "45        487.85     309.18         18.18              85.91  Fourth & Above   \n",
       "77        257.02     435.53         24.27              64.34          Second   \n",
       "118       349.39     441.50         14.33              75.27           Third   \n",
       "127       574.09     364.75         22.80             131.70           First   \n",
       "138       442.82     550.26         16.37              60.09           Third   \n",
       "...          ...        ...           ...                ...             ...   \n",
       "99903     450.75     335.93         17.63             112.61          Second   \n",
       "99919     269.10     565.04         19.72              57.51          Second   \n",
       "99926     426.14     377.34         21.33              99.41  Fourth & Above   \n",
       "99934     536.44     313.94         14.60              85.84           Third   \n",
       "99947     287.72     688.12         15.90              66.47          Second   \n",
       "\n",
       "       Insurance_Valid_Till   Location Registration_State  \n",
       "45                     2025      Delhi                 TN  \n",
       "77                     2022  Ahmedabad                 DL  \n",
       "118                    2024  Bangalore                 TS  \n",
       "127                    2024      Delhi                 TN  \n",
       "138                    2020       Pune                 MH  \n",
       "...                     ...        ...                ...  \n",
       "99903                  2021      Delhi                 GJ  \n",
       "99919                  2025    Chennai                 DL  \n",
       "99926                  2025  Ahmedabad                 GJ  \n",
       "99934                  2021      Delhi                 GJ  \n",
       "99947                  2025    Kolkata                 DL  \n",
       "\n",
       "[7473 rows x 15 columns]"
      ]
     },
     "execution_count": 275,
     "metadata": {},
     "output_type": "execute_result"
    }
   ],
   "source": [
    "filtered_cars"
   ]
  },
  {
   "cell_type": "code",
   "execution_count": null,
   "id": "43b90d80-7df2-42df-9c59-cafb1e067acf",
   "metadata": {},
   "outputs": [],
   "source": []
  }
 ],
 "metadata": {
  "kernelspec": {
   "display_name": "Python 3 (ipykernel)",
   "language": "python",
   "name": "python3"
  },
  "language_info": {
   "codemirror_mode": {
    "name": "ipython",
    "version": 3
   },
   "file_extension": ".py",
   "mimetype": "text/x-python",
   "name": "python",
   "nbconvert_exporter": "python",
   "pygments_lexer": "ipython3",
   "version": "3.13.5"
  }
 },
 "nbformat": 4,
 "nbformat_minor": 5
}
